{
 "cells": [
  {
   "cell_type": "markdown",
   "metadata": {},
   "source": [
    "# Recommendations with IBM\n",
    "\n",
    "In this notebook, you will be putting your recommendation skills to use on real data from the IBM Watson Studio platform. \n",
    "\n",
    "\n",
    "You may either submit your notebook through the workspace here, or you may work from your local machine and submit through the next page.  Either way assure that your code passes the project [RUBRIC](https://review.udacity.com/#!/rubrics/2322/view).  **Please save regularly.**\n",
    "\n",
    "By following the table of contents, you will build out a number of different methods for making recommendations that can be used for different situations. \n",
    "\n",
    "\n",
    "## Table of Contents\n",
    "\n",
    "I. [Exploratory Data Analysis](#Exploratory-Data-Analysis)<br>\n",
    "II. [Rank Based Recommendations](#Rank)<br>\n",
    "III. [User-User Based Collaborative Filtering](#User-User)<br>\n",
    "IV. [Content Based Recommendations (EXTRA - NOT REQUIRED)](#Content-Recs)<br>\n",
    "V. [Matrix Factorization](#Matrix-Fact)<br>\n",
    "VI. [Extras & Concluding](#conclusions)\n",
    "\n",
    "At the end of the notebook, you will find directions for how to submit your work.  Let's get started by importing the necessary libraries and reading in the data."
   ]
  },
  {
   "cell_type": "code",
   "execution_count": 1,
   "metadata": {},
   "outputs": [],
   "source": [
    "import pandas as pd\n",
    "import numpy as np\n",
    "import matplotlib.pyplot as plt\n",
    "import project_tests as t\n",
    "import pickle\n",
    "from sklearn.metrics import f1_score\n",
    "\n",
    "%matplotlib inline\n",
    "\n",
    "df = pd.read_csv('data/user-item-interactions.csv')\n",
    "df_content = pd.read_csv('data/articles_community.csv')\n",
    "del df['Unnamed: 0']\n",
    "del df_content['Unnamed: 0']"
   ]
  },
  {
   "cell_type": "code",
   "execution_count": 2,
   "metadata": {},
   "outputs": [
    {
     "data": {
      "text/html": [
       "<div>\n",
       "<style>\n",
       "    .dataframe thead tr:only-child th {\n",
       "        text-align: right;\n",
       "    }\n",
       "\n",
       "    .dataframe thead th {\n",
       "        text-align: left;\n",
       "    }\n",
       "\n",
       "    .dataframe tbody tr th {\n",
       "        vertical-align: top;\n",
       "    }\n",
       "</style>\n",
       "<table border=\"1\" class=\"dataframe\">\n",
       "  <thead>\n",
       "    <tr style=\"text-align: right;\">\n",
       "      <th></th>\n",
       "      <th>article_id</th>\n",
       "      <th>title</th>\n",
       "      <th>email</th>\n",
       "    </tr>\n",
       "  </thead>\n",
       "  <tbody>\n",
       "    <tr>\n",
       "      <th>0</th>\n",
       "      <td>1430.0</td>\n",
       "      <td>using pixiedust for fast, flexible, and easier...</td>\n",
       "      <td>ef5f11f77ba020cd36e1105a00ab868bbdbf7fe7</td>\n",
       "    </tr>\n",
       "    <tr>\n",
       "      <th>1</th>\n",
       "      <td>1314.0</td>\n",
       "      <td>healthcare python streaming application demo</td>\n",
       "      <td>083cbdfa93c8444beaa4c5f5e0f5f9198e4f9e0b</td>\n",
       "    </tr>\n",
       "    <tr>\n",
       "      <th>2</th>\n",
       "      <td>1429.0</td>\n",
       "      <td>use deep learning for image classification</td>\n",
       "      <td>b96a4f2e92d8572034b1e9b28f9ac673765cd074</td>\n",
       "    </tr>\n",
       "    <tr>\n",
       "      <th>3</th>\n",
       "      <td>1338.0</td>\n",
       "      <td>ml optimization using cognitive assistant</td>\n",
       "      <td>06485706b34a5c9bf2a0ecdac41daf7e7654ceb7</td>\n",
       "    </tr>\n",
       "    <tr>\n",
       "      <th>4</th>\n",
       "      <td>1276.0</td>\n",
       "      <td>deploy your python model as a restful api</td>\n",
       "      <td>f01220c46fc92c6e6b161b1849de11faacd7ccb2</td>\n",
       "    </tr>\n",
       "  </tbody>\n",
       "</table>\n",
       "</div>"
      ],
      "text/plain": [
       "   article_id                                              title  \\\n",
       "0      1430.0  using pixiedust for fast, flexible, and easier...   \n",
       "1      1314.0       healthcare python streaming application demo   \n",
       "2      1429.0         use deep learning for image classification   \n",
       "3      1338.0          ml optimization using cognitive assistant   \n",
       "4      1276.0          deploy your python model as a restful api   \n",
       "\n",
       "                                      email  \n",
       "0  ef5f11f77ba020cd36e1105a00ab868bbdbf7fe7  \n",
       "1  083cbdfa93c8444beaa4c5f5e0f5f9198e4f9e0b  \n",
       "2  b96a4f2e92d8572034b1e9b28f9ac673765cd074  \n",
       "3  06485706b34a5c9bf2a0ecdac41daf7e7654ceb7  \n",
       "4  f01220c46fc92c6e6b161b1849de11faacd7ccb2  "
      ]
     },
     "execution_count": 2,
     "metadata": {},
     "output_type": "execute_result"
    }
   ],
   "source": [
    "# Show df to get an idea of the data\n",
    "df.head()"
   ]
  },
  {
   "cell_type": "code",
   "execution_count": 3,
   "metadata": {},
   "outputs": [
    {
     "data": {
      "text/plain": [
       "(45993, 3)"
      ]
     },
     "execution_count": 3,
     "metadata": {},
     "output_type": "execute_result"
    }
   ],
   "source": [
    "df.shape"
   ]
  },
  {
   "cell_type": "code",
   "execution_count": 4,
   "metadata": {},
   "outputs": [
    {
     "data": {
      "text/html": [
       "<div>\n",
       "<style>\n",
       "    .dataframe thead tr:only-child th {\n",
       "        text-align: right;\n",
       "    }\n",
       "\n",
       "    .dataframe thead th {\n",
       "        text-align: left;\n",
       "    }\n",
       "\n",
       "    .dataframe tbody tr th {\n",
       "        vertical-align: top;\n",
       "    }\n",
       "</style>\n",
       "<table border=\"1\" class=\"dataframe\">\n",
       "  <thead>\n",
       "    <tr style=\"text-align: right;\">\n",
       "      <th></th>\n",
       "      <th>doc_body</th>\n",
       "      <th>doc_description</th>\n",
       "      <th>doc_full_name</th>\n",
       "      <th>doc_status</th>\n",
       "      <th>article_id</th>\n",
       "    </tr>\n",
       "  </thead>\n",
       "  <tbody>\n",
       "    <tr>\n",
       "      <th>0</th>\n",
       "      <td>Skip navigation Sign in SearchLoading...\\r\\n\\r...</td>\n",
       "      <td>Detect bad readings in real time using Python ...</td>\n",
       "      <td>Detect Malfunctioning IoT Sensors with Streami...</td>\n",
       "      <td>Live</td>\n",
       "      <td>0</td>\n",
       "    </tr>\n",
       "    <tr>\n",
       "      <th>1</th>\n",
       "      <td>No Free Hunch Navigation * kaggle.com\\r\\n\\r\\n ...</td>\n",
       "      <td>See the forest, see the trees. Here lies the c...</td>\n",
       "      <td>Communicating data science: A guide to present...</td>\n",
       "      <td>Live</td>\n",
       "      <td>1</td>\n",
       "    </tr>\n",
       "    <tr>\n",
       "      <th>2</th>\n",
       "      <td>☰ * Login\\r\\n * Sign Up\\r\\n\\r\\n * Learning Pat...</td>\n",
       "      <td>Here’s this week’s news in Data Science and Bi...</td>\n",
       "      <td>This Week in Data Science (April 18, 2017)</td>\n",
       "      <td>Live</td>\n",
       "      <td>2</td>\n",
       "    </tr>\n",
       "    <tr>\n",
       "      <th>3</th>\n",
       "      <td>DATALAYER: HIGH THROUGHPUT, LOW LATENCY AT SCA...</td>\n",
       "      <td>Learn how distributed DBs solve the problem of...</td>\n",
       "      <td>DataLayer Conference: Boost the performance of...</td>\n",
       "      <td>Live</td>\n",
       "      <td>3</td>\n",
       "    </tr>\n",
       "    <tr>\n",
       "      <th>4</th>\n",
       "      <td>Skip navigation Sign in SearchLoading...\\r\\n\\r...</td>\n",
       "      <td>This video demonstrates the power of IBM DataS...</td>\n",
       "      <td>Analyze NY Restaurant data using Spark in DSX</td>\n",
       "      <td>Live</td>\n",
       "      <td>4</td>\n",
       "    </tr>\n",
       "  </tbody>\n",
       "</table>\n",
       "</div>"
      ],
      "text/plain": [
       "                                            doc_body  \\\n",
       "0  Skip navigation Sign in SearchLoading...\\r\\n\\r...   \n",
       "1  No Free Hunch Navigation * kaggle.com\\r\\n\\r\\n ...   \n",
       "2  ☰ * Login\\r\\n * Sign Up\\r\\n\\r\\n * Learning Pat...   \n",
       "3  DATALAYER: HIGH THROUGHPUT, LOW LATENCY AT SCA...   \n",
       "4  Skip navigation Sign in SearchLoading...\\r\\n\\r...   \n",
       "\n",
       "                                     doc_description  \\\n",
       "0  Detect bad readings in real time using Python ...   \n",
       "1  See the forest, see the trees. Here lies the c...   \n",
       "2  Here’s this week’s news in Data Science and Bi...   \n",
       "3  Learn how distributed DBs solve the problem of...   \n",
       "4  This video demonstrates the power of IBM DataS...   \n",
       "\n",
       "                                       doc_full_name doc_status  article_id  \n",
       "0  Detect Malfunctioning IoT Sensors with Streami...       Live           0  \n",
       "1  Communicating data science: A guide to present...       Live           1  \n",
       "2         This Week in Data Science (April 18, 2017)       Live           2  \n",
       "3  DataLayer Conference: Boost the performance of...       Live           3  \n",
       "4      Analyze NY Restaurant data using Spark in DSX       Live           4  "
      ]
     },
     "execution_count": 4,
     "metadata": {},
     "output_type": "execute_result"
    }
   ],
   "source": [
    "# Show df_content to get an idea of the data\n",
    "df_content.head()"
   ]
  },
  {
   "cell_type": "code",
   "execution_count": 5,
   "metadata": {},
   "outputs": [
    {
     "data": {
      "text/plain": [
       "(1056, 5)"
      ]
     },
     "execution_count": 5,
     "metadata": {},
     "output_type": "execute_result"
    }
   ],
   "source": [
    "df_content.shape"
   ]
  },
  {
   "cell_type": "markdown",
   "metadata": {},
   "source": [
    "### <a class=\"anchor\" id=\"Exploratory-Data-Analysis\">Part I : Exploratory Data Analysis</a>\n",
    "\n",
    "Use the dictionary and cells below to provide some insight into the descriptive statistics of the data.\n",
    "\n",
    "`1.` What is the distribution of how many articles a user interacts with in the dataset?  Provide a visual and descriptive statistics to assist with giving a look at the number of times each user interacts with an article.  "
   ]
  },
  {
   "cell_type": "code",
   "execution_count": 6,
   "metadata": {},
   "outputs": [
    {
     "name": "stdout",
     "output_type": "stream",
     "text": [
      "(array([  4.91500000e+03,   1.67000000e+02,   4.60000000e+01,\n",
      "         1.10000000e+01,   7.00000000e+00,   0.00000000e+00,\n",
      "         0.00000000e+00,   0.00000000e+00,   0.00000000e+00,\n",
      "         2.00000000e+00]), array([   1. ,   37.3,   73.6,  109.9,  146.2,  182.5,  218.8,  255.1,\n",
      "        291.4,  327.7,  364. ]), <a list of 10 Patch objects>)\n"
     ]
    },
    {
     "data": {
      "image/png": "[encoded data removed]",
      "text/plain": [
       "<matplotlib.figure.Figure at 0x7f723d1eae10>"
      ]
     },
     "metadata": {
      "needs_background": "light"
     },
     "output_type": "display_data"
    }
   ],
   "source": [
    "df_by_email = df.groupby('email').count()\n",
    "print(plt.hist(df_by_email['article_id'].sort_values(ascending=False)))"
   ]
  },
  {
   "cell_type": "code",
   "execution_count": 7,
   "metadata": {},
   "outputs": [
    {
     "name": "stdout",
     "output_type": "stream",
     "text": [
      "50% of individuals interact with 3.0 articles or fewer.\n",
      "The maximum number of user-article interactions by any 1 user is 364\n"
     ]
    }
   ],
   "source": [
    "# Fill in the median and maximum number of user_article interactios below\n",
    "median_val = df_by_email['article_id'].median()\n",
    "print('50% of individuals interact with {} articles or fewer.'.format(median_val))\n",
    "max_views_by_user = df_by_email['article_id'].max()\n",
    "print('The maximum number of user-article interactions by any 1 user is {}'.format(max_views_by_user))"
   ]
  },
  {
   "cell_type": "markdown",
   "metadata": {},
   "source": [
    "`2.` Explore and remove duplicate articles from the **df_content** dataframe.  "
   ]
  },
  {
   "cell_type": "code",
   "execution_count": 8,
   "metadata": {},
   "outputs": [
    {
     "data": {
      "text/plain": [
       "5"
      ]
     },
     "execution_count": 8,
     "metadata": {},
     "output_type": "execute_result"
    }
   ],
   "source": [
    "# Find and explore duplicate articles\n",
    "# check number of duplicates\n",
    "df_content.article_id.count() - df_content.article_id.nunique()"
   ]
  },
  {
   "cell_type": "code",
   "execution_count": 9,
   "metadata": {},
   "outputs": [],
   "source": [
    "# Remove any rows that have the same article_id - only keep the first\n",
    "df_content.drop_duplicates('article_id',inplace=True)"
   ]
  },
  {
   "cell_type": "code",
   "execution_count": 10,
   "metadata": {},
   "outputs": [
    {
     "name": "stdout",
     "output_type": "stream",
     "text": [
      "0\n",
      "45993\n"
     ]
    }
   ],
   "source": [
    "# check if the duplicates have been removed\n",
    "print(df_content.article_id.count() - df_content.article_id.nunique())\n",
    "print(df.shape[0])"
   ]
  },
  {
   "cell_type": "markdown",
   "metadata": {},
   "source": [
    "`3.` Use the cells below to find:\n",
    "\n",
    "**a.** The number of unique articles that have an interaction with a user.  \n",
    "**b.** The number of unique articles in the dataset (whether they have any interactions or not).<br>\n",
    "**c.** The number of unique users in the dataset. (excluding null values) <br>\n",
    "**d.** The number of user-article interactions in the dataset."
   ]
  },
  {
   "cell_type": "code",
   "execution_count": 11,
   "metadata": {},
   "outputs": [
    {
     "name": "stdout",
     "output_type": "stream",
     "text": [
      "The number of unique articles that have at least one interaction is 714\n",
      "The number of unique articles on the IBM platform is 1051\n",
      "The number of unique users is 5148\n",
      "The number of user-article interactions is 45993\n"
     ]
    }
   ],
   "source": [
    "unique_articles = df.article_id.nunique()\n",
    "print('The number of unique articles that have at least one interaction is {}'.format(unique_articles))\n",
    "total_articles = df_content.article_id.count()\n",
    "print('The number of unique articles on the IBM platform is {}'.format(total_articles))\n",
    "unique_users = df.email.nunique()\n",
    "print('The number of unique users is {}'.format(unique_users))\n",
    "user_article_interactions = df.shape[0]\n",
    "print('The number of user-article interactions is {}'.format(user_article_interactions))"
   ]
  },
  {
   "cell_type": "markdown",
   "metadata": {},
   "source": [
    "`4.` Use the cells below to find the most viewed **article_id**, as well as how often it was viewed.  After talking to the company leaders, the `email_mapper` function was deemed a reasonable way to map users to ids.  There were a small number of null values, and it was found that all of these null values likely belonged to a single user (which is how they are stored using the function below)."
   ]
  },
  {
   "cell_type": "code",
   "execution_count": 12,
   "metadata": {},
   "outputs": [
    {
     "data": {
      "text/html": [
       "<div>\n",
       "<style>\n",
       "    .dataframe thead tr:only-child th {\n",
       "        text-align: right;\n",
       "    }\n",
       "\n",
       "    .dataframe thead th {\n",
       "        text-align: left;\n",
       "    }\n",
       "\n",
       "    .dataframe tbody tr th {\n",
       "        vertical-align: top;\n",
       "    }\n",
       "</style>\n",
       "<table border=\"1\" class=\"dataframe\">\n",
       "  <thead>\n",
       "    <tr style=\"text-align: right;\">\n",
       "      <th></th>\n",
       "      <th>title</th>\n",
       "      <th>email</th>\n",
       "    </tr>\n",
       "    <tr>\n",
       "      <th>article_id</th>\n",
       "      <th></th>\n",
       "      <th></th>\n",
       "    </tr>\n",
       "  </thead>\n",
       "  <tbody>\n",
       "    <tr>\n",
       "      <th>1429.0</th>\n",
       "      <td>937</td>\n",
       "      <td>937</td>\n",
       "    </tr>\n",
       "    <tr>\n",
       "      <th>1330.0</th>\n",
       "      <td>927</td>\n",
       "      <td>927</td>\n",
       "    </tr>\n",
       "    <tr>\n",
       "      <th>1431.0</th>\n",
       "      <td>671</td>\n",
       "      <td>671</td>\n",
       "    </tr>\n",
       "    <tr>\n",
       "      <th>1427.0</th>\n",
       "      <td>643</td>\n",
       "      <td>643</td>\n",
       "    </tr>\n",
       "    <tr>\n",
       "      <th>1364.0</th>\n",
       "      <td>627</td>\n",
       "      <td>627</td>\n",
       "    </tr>\n",
       "  </tbody>\n",
       "</table>\n",
       "</div>"
      ],
      "text/plain": [
       "            title  email\n",
       "article_id              \n",
       "1429.0        937    937\n",
       "1330.0        927    927\n",
       "1431.0        671    671\n",
       "1427.0        643    643\n",
       "1364.0        627    627"
      ]
     },
     "execution_count": 12,
     "metadata": {},
     "output_type": "execute_result"
    }
   ],
   "source": [
    "df_by_article_id = df.groupby('article_id').count()\n",
    "df_by_article_id.sort_values('title',ascending=False).head()"
   ]
  },
  {
   "cell_type": "code",
   "execution_count": 13,
   "metadata": {},
   "outputs": [
    {
     "name": "stdout",
     "output_type": "stream",
     "text": [
      "1429.0\n",
      "937\n"
     ]
    }
   ],
   "source": [
    "df_by_article_sorted = df_by_article_id.sort_values('title',ascending=False)['title']\n",
    "print(df_by_article_sorted.index[0])\n",
    "print(df_by_article_sorted.values[0])"
   ]
  },
  {
   "cell_type": "code",
   "execution_count": 14,
   "metadata": {},
   "outputs": [
    {
     "name": "stdout",
     "output_type": "stream",
     "text": [
      "The most viewed article in the dataset as a string with one value following the decimal : 1429.0\n",
      "The most viewed article in the dataset was viewed how many times? 937\n"
     ]
    }
   ],
   "source": [
    "most_viewed_article_id = str(df_by_article_sorted.index[0])\n",
    "print('The most viewed article in the dataset as a string with one value following the decimal : {}'.format(most_viewed_article_id))\n",
    "max_views = df_by_article_sorted.values[0]\n",
    "print('The most viewed article in the dataset was viewed how many times? {}'.format(max_views))"
   ]
  },
  {
   "cell_type": "code",
   "execution_count": 15,
   "metadata": {},
   "outputs": [
    {
     "data": {
      "text/html": [
       "<div>\n",
       "<style>\n",
       "    .dataframe thead tr:only-child th {\n",
       "        text-align: right;\n",
       "    }\n",
       "\n",
       "    .dataframe thead th {\n",
       "        text-align: left;\n",
       "    }\n",
       "\n",
       "    .dataframe tbody tr th {\n",
       "        vertical-align: top;\n",
       "    }\n",
       "</style>\n",
       "<table border=\"1\" class=\"dataframe\">\n",
       "  <thead>\n",
       "    <tr style=\"text-align: right;\">\n",
       "      <th></th>\n",
       "      <th>article_id</th>\n",
       "      <th>title</th>\n",
       "      <th>user_id</th>\n",
       "    </tr>\n",
       "  </thead>\n",
       "  <tbody>\n",
       "    <tr>\n",
       "      <th>0</th>\n",
       "      <td>1430.0</td>\n",
       "      <td>using pixiedust for fast, flexible, and easier...</td>\n",
       "      <td>1</td>\n",
       "    </tr>\n",
       "    <tr>\n",
       "      <th>1</th>\n",
       "      <td>1314.0</td>\n",
       "      <td>healthcare python streaming application demo</td>\n",
       "      <td>2</td>\n",
       "    </tr>\n",
       "    <tr>\n",
       "      <th>2</th>\n",
       "      <td>1429.0</td>\n",
       "      <td>use deep learning for image classification</td>\n",
       "      <td>3</td>\n",
       "    </tr>\n",
       "    <tr>\n",
       "      <th>3</th>\n",
       "      <td>1338.0</td>\n",
       "      <td>ml optimization using cognitive assistant</td>\n",
       "      <td>4</td>\n",
       "    </tr>\n",
       "    <tr>\n",
       "      <th>4</th>\n",
       "      <td>1276.0</td>\n",
       "      <td>deploy your python model as a restful api</td>\n",
       "      <td>5</td>\n",
       "    </tr>\n",
       "  </tbody>\n",
       "</table>\n",
       "</div>"
      ],
      "text/plain": [
       "   article_id                                              title  user_id\n",
       "0      1430.0  using pixiedust for fast, flexible, and easier...        1\n",
       "1      1314.0       healthcare python streaming application demo        2\n",
       "2      1429.0         use deep learning for image classification        3\n",
       "3      1338.0          ml optimization using cognitive assistant        4\n",
       "4      1276.0          deploy your python model as a restful api        5"
      ]
     },
     "execution_count": 15,
     "metadata": {},
     "output_type": "execute_result"
    }
   ],
   "source": [
    "## No need to change the code here - this will be helpful for later parts of the notebook\n",
    "# Run this cell to map the user email to a user_id column and remove the email column\n",
    "\n",
    "def email_mapper():\n",
    "    coded_dict = dict()\n",
    "    cter = 1\n",
    "    email_encoded = []\n",
    "    \n",
    "    for val in df['email']:\n",
    "        if val not in coded_dict:\n",
    "            coded_dict[val] = cter\n",
    "            cter+=1\n",
    "        \n",
    "        email_encoded.append(coded_dict[val])\n",
    "    return email_encoded\n",
    "\n",
    "email_encoded = email_mapper()\n",
    "del df['email']\n",
    "df['user_id'] = email_encoded\n",
    "\n",
    "# show header\n",
    "df.head()"
   ]
  },
  {
   "cell_type": "code",
   "execution_count": 16,
   "metadata": {},
   "outputs": [
    {
     "name": "stdout",
     "output_type": "stream",
     "text": [
      "It looks like you have everything right here! Nice job!\n"
     ]
    }
   ],
   "source": [
    "## If you stored all your results in the variable names above, \n",
    "## you shouldn't need to change anything in this cell\n",
    "\n",
    "sol_1_dict = {\n",
    "    '`50% of individuals have _____ or fewer interactions.`': median_val,\n",
    "    '`The total number of user-article interactions in the dataset is ______.`': user_article_interactions,\n",
    "    '`The maximum number of user-article interactions by any 1 user is ______.`': max_views_by_user,\n",
    "    '`The most viewed article in the dataset was viewed _____ times.`': max_views,\n",
    "    '`The article_id of the most viewed article is ______.`': most_viewed_article_id,\n",
    "    '`The number of unique articles that have at least 1 rating ______.`': unique_articles,\n",
    "    '`The number of unique users in the dataset is ______`': unique_users,\n",
    "    '`The number of unique articles on the IBM platform`': total_articles\n",
    "}\n",
    "\n",
    "# Test your dictionary against the solution\n",
    "t.sol_1_test(sol_1_dict)"
   ]
  },
  {
   "cell_type": "markdown",
   "metadata": {},
   "source": [
    "### <a class=\"anchor\" id=\"Rank\">Part II: Rank-Based Recommendations</a>\n",
    "\n",
    "Unlike in the earlier lessons, we don't actually have ratings for whether a user liked an article or not.  We only know that a user has interacted with an article.  In these cases, the popularity of an article can really only be based on how often an article was interacted with.\n",
    "\n",
    "`1.` Fill in the function below to return the **n** top articles ordered with most interactions as the top. Test your function using the tests below."
   ]
  },
  {
   "cell_type": "code",
   "execution_count": 17,
   "metadata": {},
   "outputs": [],
   "source": [
    "def get_top_articles(n, df=df):\n",
    "    '''\n",
    "    INPUT:\n",
    "    n - (int) the number of top articles to return\n",
    "    df - (pandas dataframe) df as defined at the top of the notebook \n",
    "    \n",
    "    OUTPUT:\n",
    "    top_articles - (list) A list of the top 'n' article titles \n",
    "    \n",
    "    '''\n",
    "    # Your code here\n",
    "    df_by_article_title = df.groupby('title').count()\n",
    "    df_by_article_title_sorted = df_by_article_title.sort_values('article_id',ascending=False)['article_id']\n",
    "    \n",
    "    top_articles = []\n",
    "    for i in range(0,n):\n",
    "        top_articles.append(df_by_article_title_sorted.index[i])\n",
    "       \n",
    "    return top_articles # Return the top article titles from df (not df_content)\n",
    "\n",
    "def get_top_article_ids(n, df=df):\n",
    "    '''\n",
    "    INPUT:\n",
    "    n - (int) the number of top articles to return\n",
    "    df - (pandas dataframe) df as defined at the top of the notebook \n",
    "    \n",
    "    OUTPUT:\n",
    "    top_articles - (list) A list of the top 'n' article titles \n",
    "    \n",
    "    '''\n",
    "    # Your code here\n",
    "    df_by_article_ids = df.groupby('article_id').count()\n",
    "    df_by_article_ids_sorted = df_by_article_ids.sort_values('title',ascending=False)['title']\n",
    "    \n",
    "    top_articles_ids = []\n",
    "    for i in range(0,n):\n",
    "        top_articles_ids.append(df_by_article_ids_sorted.index[i])\n",
    "    \n",
    "    return top_articles_ids # Return the top article ids"
   ]
  },
  {
   "cell_type": "code",
   "execution_count": 18,
   "metadata": {},
   "outputs": [
    {
     "name": "stdout",
     "output_type": "stream",
     "text": [
      "['use deep learning for image classification', 'insights from new york car accident reports', 'visualize car data with brunel', 'use xgboost, scikit-learn & ibm watson machine learning apis', 'predicting churn with the spss random tree algorithm', 'healthcare python streaming application demo', 'finding optimal locations of new store using decision optimization', 'apache spark lab, part 1: basic concepts', 'analyze energy consumption in buildings', 'gosales transactions for logistic regression model']\n",
      "[1429.0, 1330.0, 1431.0, 1427.0, 1364.0, 1314.0, 1293.0, 1170.0, 1162.0, 1304.0]\n"
     ]
    }
   ],
   "source": [
    "print(get_top_articles(10))\n",
    "print(get_top_article_ids(10))"
   ]
  },
  {
   "cell_type": "code",
   "execution_count": 19,
   "metadata": {},
   "outputs": [
    {
     "name": "stdout",
     "output_type": "stream",
     "text": [
      "Your top_5 looks like the solution list! Nice job.\n",
      "Your top_10 looks like the solution list! Nice job.\n",
      "Your top_20 looks like the solution list! Nice job.\n"
     ]
    }
   ],
   "source": [
    "# Test your function by returning the top 5, 10, and 20 articles\n",
    "top_5 = get_top_articles(5)\n",
    "top_10 = get_top_articles(10)\n",
    "top_20 = get_top_articles(20)\n",
    "\n",
    "# Test each of your three lists from above\n",
    "t.sol_2_test(get_top_articles)"
   ]
  },
  {
   "cell_type": "markdown",
   "metadata": {},
   "source": [
    "### <a class=\"anchor\" id=\"User-User\">Part III: User-User Based Collaborative Filtering</a>\n",
    "\n",
    "\n",
    "`1.` Use the function below to reformat the **df** dataframe to be shaped with users as the rows and articles as the columns.  \n",
    "\n",
    "* Each **user** should only appear in each **row** once.\n",
    "\n",
    "\n",
    "* Each **article** should only show up in one **column**.  \n",
    "\n",
    "\n",
    "* **If a user has interacted with an article, then place a 1 where the user-row meets for that article-column**.  It does not matter how many times a user has interacted with the article, all entries where a user has interacted with an article should be a 1.  \n",
    "\n",
    "\n",
    "* **If a user has not interacted with an item, then place a zero where the user-row meets for that article-column**. \n",
    "\n",
    "Use the tests to make sure the basic structure of your matrix matches what is expected by the solution."
   ]
  },
  {
   "cell_type": "code",
   "execution_count": 20,
   "metadata": {},
   "outputs": [],
   "source": [
    "# create the user-article matrix with 1's and 0's\n",
    "\n",
    "def create_user_item_matrix(df):\n",
    "    '''\n",
    "    INPUT:\n",
    "    df - pandas dataframe with article_id, title, user_id columns\n",
    "    \n",
    "    OUTPUT:\n",
    "    user_item - user item matrix \n",
    "    \n",
    "    Description:\n",
    "    Return a matrix with user ids as rows and article ids on the columns with 1 values where a user interacted with \n",
    "    an article and a 0 otherwise\n",
    "    '''\n",
    "    # Fill in the function here\n",
    "    \n",
    "    user_item = df.groupby('user_id')['article_id'].value_counts().unstack().fillna(0)\n",
    "    user_item[user_item > 1] = 1\n",
    "    \n",
    "    return user_item # return the user_item matrix \n",
    "\n",
    "user_item = create_user_item_matrix(df)"
   ]
  },
  {
   "cell_type": "code",
   "execution_count": 21,
   "metadata": {},
   "outputs": [
    {
     "name": "stdout",
     "output_type": "stream",
     "text": [
      "You have passed our quick tests!  Please proceed!\n"
     ]
    }
   ],
   "source": [
    "## Tests: You should just need to run this cell.  Don't change the code.\n",
    "assert user_item.shape[0] == 5149, \"Oops!  The number of users in the user-article matrix doesn't look right.\"\n",
    "assert user_item.shape[1] == 714, \"Oops!  The number of articles in the user-article matrix doesn't look right.\"\n",
    "assert user_item.sum(axis=1)[1] == 36, \"Oops!  The number of articles seen by user 1 doesn't look right.\"\n",
    "print(\"You have passed our quick tests!  Please proceed!\")"
   ]
  },
  {
   "cell_type": "markdown",
   "metadata": {},
   "source": [
    "`2.` Complete the function below which should take a user_id and provide an ordered list of the most similar users to that user (from most similar to least similar).  The returned result should not contain the provided user_id, as we know that each user is similar to him/herself. Because the results for each user here are binary, it (perhaps) makes sense to compute similarity as the dot product of two users. \n",
    "\n",
    "Use the tests to test your function."
   ]
  },
  {
   "cell_type": "code",
   "execution_count": 22,
   "metadata": {},
   "outputs": [],
   "source": [
    "def find_similar_users(user_id, user_item=user_item):\n",
    "    '''\n",
    "    INPUT:\n",
    "    user_id - (int) a user_id\n",
    "    user_item - (pandas dataframe) matrix of users by articles: \n",
    "                1's when a user has interacted with an article, 0 otherwise\n",
    "    \n",
    "    OUTPUT:\n",
    "    similar_users - (list) an ordered list where the closest users (largest dot product users)\n",
    "                    are listed first\n",
    "    \n",
    "    Description:\n",
    "    Computes the similarity of every pair of users based on the dot product\n",
    "    Returns an ordered\n",
    "    \n",
    "    '''\n",
    "    # compute similarity of each user to the provided user\n",
    "    similarity = pd.DataFrame(np.dot(user_item[user_item.index == user_id],user_item.T),columns=user_item.index)\n",
    "    \n",
    "    # sort by similarity\n",
    "    similarity = similarity.sort_values(0,axis=1, ascending=False)\n",
    "    # create list of just the ids and # remove the own user's id\n",
    "    most_similar_users = similarity.columns.tolist()\n",
    "    \n",
    "    # remove the own user's id\n",
    "    most_similar_users.remove(user_id)\n",
    "    \n",
    "    return most_similar_users # return a list of the users in order from most to least similar       "
   ]
  },
  {
   "cell_type": "code",
   "execution_count": 23,
   "metadata": {},
   "outputs": [
    {
     "name": "stdout",
     "output_type": "stream",
     "text": [
      "The 10 most similar users to user 1 are: [3933, 23, 3782, 203, 4459, 3870, 131, 4201, 46, 5041]\n",
      "The 5 most similar users to user 3933 are: [1, 23, 3782, 203, 4459]\n",
      "The 3 most similar users to user 46 are: [4201, 3782, 23]\n"
     ]
    }
   ],
   "source": [
    "# Do a spot check of your function\n",
    "print(\"The 10 most similar users to user 1 are: {}\".format(find_similar_users(1)[:10]))\n",
    "print(\"The 5 most similar users to user 3933 are: {}\".format(find_similar_users(3933)[:5]))\n",
    "print(\"The 3 most similar users to user 46 are: {}\".format(find_similar_users(46)[:3]))"
   ]
  },
  {
   "cell_type": "markdown",
   "metadata": {},
   "source": [
    "`3.` Now that you have a function that provides the most similar users to each user, you will want to use these users to find articles you can recommend.  Complete the functions below to return the articles you would recommend to each user. "
   ]
  },
  {
   "cell_type": "code",
   "execution_count": 24,
   "metadata": {},
   "outputs": [
    {
     "data": {
      "text/plain": [
       "['using pixiedust for fast, flexible, and easier data analysis and experimentation']"
      ]
     },
     "execution_count": 24,
     "metadata": {},
     "output_type": "execute_result"
    }
   ],
   "source": [
    "article_list = df.drop('user_id',axis=1)\n",
    "article_list = article_list.drop_duplicates()\n",
    "article_names = article_list[article_list['article_id'].isin([1430])]['title'].tolist()  \n",
    "article_names "
   ]
  },
  {
   "cell_type": "code",
   "execution_count": 25,
   "metadata": {},
   "outputs": [],
   "source": [
    "def get_article_names(article_ids, df=df):\n",
    "    '''\n",
    "    INPUT:\n",
    "    article_ids - (list) a list of article ids\n",
    "    df - (pandas dataframe) df as defined at the top of the notebook\n",
    "    \n",
    "    OUTPUT:\n",
    "    article_names - (list) a list of article names associated with the list of article ids \n",
    "                    (this is identified by the title column)\n",
    "    '''\n",
    "    # Find the names of the articles by modifying the list of articles and names and subseting on the article_ids\n",
    "    article_list = df.drop('user_id',axis=1)\n",
    "    article_list = article_list.drop_duplicates()\n",
    "    #article_list = article_list.reset_index()\n",
    "    article_names = article_list[article_list['article_id'].isin(article_ids)]['title'].tolist()\n",
    "    \n",
    "    return article_names # Return the article names associated with list of article ids\n",
    "\n",
    "\n",
    "def get_user_articles(user_id, user_item=user_item):\n",
    "    '''\n",
    "    INPUT:\n",
    "    user_id - (int) a user id\n",
    "    user_item - (pandas dataframe) matrix of users by articles: \n",
    "                1's when a user has interacted with an article, 0 otherwise\n",
    "    \n",
    "    OUTPUT:\n",
    "    article_ids - (list) a list of the article ids seen by the user\n",
    "    article_names - (list) a list of article names associated with the list of article ids \n",
    "                    (this is identified by the doc_full_name column in df_content)\n",
    "    \n",
    "    Description:\n",
    "    Provides a list of the article_ids and article titles that have been seen by a user\n",
    "    '''\n",
    "    # get the articles ids by selecting the columns that are = 1 for the selected user_id\n",
    "    article_ids = user_item.columns[user_item.loc[user_id] == 1].tolist()\n",
    "    article_ids = list(map(str, article_ids))\n",
    "    \n",
    "    # find the names of the articles using the function defined before\n",
    "    article_names = get_article_names(article_ids, df=df)\n",
    "    \n",
    "    return article_ids, article_names # return the ids and names\n",
    "\n",
    "\n",
    "def user_user_recs(user_id, m=10):\n",
    "    '''\n",
    "    INPUT:\n",
    "    user_id - (int) a user id\n",
    "    m - (int) the number of recommendations you want for the user\n",
    "    \n",
    "    OUTPUT:\n",
    "    recs - (list) a list of recommendations for the user\n",
    "    \n",
    "    Description:\n",
    "    Loops through the users based on closeness to the input user_id\n",
    "    For each user - finds articles the user hasn't seen before and provides them as recs\n",
    "    Does this until m recommendations are found\n",
    "    \n",
    "    Notes:\n",
    "    Users who are the same closeness are chosen arbitrarily as the 'next' user\n",
    "    \n",
    "    For the user where the number of recommended articles starts below m \n",
    "    and ends exceeding m, the last items are chosen arbitrarily\n",
    "    \n",
    "    '''\n",
    "    recs = []\n",
    "    i = 1\n",
    "    most_similar_users = find_similar_users(user_id)\n",
    "    list_article_read = get_user_articles(user_id)[0]\n",
    "    while len(recs) < m:\n",
    "    # list of the articles read by the i similar user\n",
    "        list_similar_read = get_user_articles(i)[0]\n",
    "    # identify the articles that where not already read by the user\n",
    "        not_read = list(set(list_similar_read) - set(list_article_read))\n",
    "    # identify the articles that where not already recommended to the user\n",
    "        to_recommend = list(set(not_read) - set(recs))\n",
    "    # add the new recommendations to the recommendation list\n",
    "        recs.extend(to_recommend)\n",
    "        recs = list(set(recs))\n",
    "    # itarion through the next similar user\n",
    "        i +=1\n",
    "    # break the loop if whe already iterated through all the similar users\n",
    "        if i > len(most_similar_users):\n",
    "            break\n",
    "        else :\n",
    "            pass\n",
    "    \n",
    "    # add random article to the recommandation list if < m or cut if too many article\n",
    "    if len(recs)<m :\n",
    "        recs.extend(df['article_id'].tolist())\n",
    "        recs = recs[:m]\n",
    "    if len(recs) == m:\n",
    "        recs = recs\n",
    "    elif len(recs) > m:\n",
    "        recs = recs[:m]\n",
    "    \n",
    "    return recs # return your recommendations for this user_id    "
   ]
  },
  {
   "cell_type": "code",
   "execution_count": 26,
   "metadata": {},
   "outputs": [
    {
     "data": {
      "text/plain": [
       "['insights from new york car accident reports',\n",
       " 'maximize oil company profits',\n",
       " 'quick guide to build a recommendation engine in python',\n",
       " 'data visualization playbook: telling the data story',\n",
       " 'build a python app on the streaming analytics service',\n",
       " 'real-time sentiment analysis of twitter hashtags with spark (+ pixiedust)',\n",
       " 'brunel interactive visualizations in jupyter notebooks',\n",
       " 'a dynamic duo – inside machine learning – medium',\n",
       " 'machine learning for the enterprise.',\n",
       " 'data visualization: the importance of excluding unnecessary details']"
      ]
     },
     "execution_count": 26,
     "metadata": {},
     "output_type": "execute_result"
    }
   ],
   "source": [
    "# Check Results\n",
    "get_article_names(user_user_recs(1, 10)) # Return 10 recommendations for user 1"
   ]
  },
  {
   "cell_type": "code",
   "execution_count": 27,
   "metadata": {},
   "outputs": [
    {
     "name": "stdout",
     "output_type": "stream",
     "text": [
      "If this is all you see, you passed all of our tests!  Nice job!\n"
     ]
    }
   ],
   "source": [
    "# Test your functions here - No need to change this code - just run this cell\n",
    "assert set(get_article_names(['1024.0', '1176.0', '1305.0', '1314.0', '1422.0', '1427.0'])) == set(['using deep learning to reconstruct high-resolution audio', 'build a python app on the streaming analytics service', 'gosales transactions for naive bayes model', 'healthcare python streaming application demo', 'use r dataframes & ibm watson natural language understanding', 'use xgboost, scikit-learn & ibm watson machine learning apis']), \"Oops! Your the get_article_names function doesn't work quite how we expect.\"\n",
    "assert set(get_article_names(['1320.0', '232.0', '844.0'])) == set(['housing (2015): united states demographic measures','self-service data preparation with ibm data refinery','use the cloudant-spark connector in python notebook']), \"Oops! Your the get_article_names function doesn't work quite how we expect.\"\n",
    "assert set(get_user_articles(20)[0]) == set(['1320.0', '232.0', '844.0'])\n",
    "assert set(get_user_articles(20)[1]) == set(['housing (2015): united states demographic measures', 'self-service data preparation with ibm data refinery','use the cloudant-spark connector in python notebook'])\n",
    "assert set(get_user_articles(2)[0]) == set(['1024.0', '1176.0', '1305.0', '1314.0', '1422.0', '1427.0'])\n",
    "assert set(get_user_articles(2)[1]) == set(['using deep learning to reconstruct high-resolution audio', 'build a python app on the streaming analytics service', 'gosales transactions for naive bayes model', 'healthcare python streaming application demo', 'use r dataframes & ibm watson natural language understanding', 'use xgboost, scikit-learn & ibm watson machine learning apis'])\n",
    "print(\"If this is all you see, you passed all of our tests!  Nice job!\")"
   ]
  },
  {
   "cell_type": "markdown",
   "metadata": {},
   "source": [
    "`4.` Now we are going to improve the consistency of the **user_user_recs** function from above.  \n",
    "\n",
    "* Instead of arbitrarily choosing when we obtain users who are all the same closeness to a given user - choose the users that have the most total article interactions before choosing those with fewer article interactions.\n",
    "\n",
    "\n",
    "* Instead of arbitrarily choosing articles from the user where the number of recommended articles starts below m and ends exceeding m, choose articles with the articles with the most total interactions before choosing those with fewer total interactions. This ranking should be  what would be obtained from the **top_articles** function you wrote earlier."
   ]
  },
  {
   "cell_type": "code",
   "execution_count": 28,
   "metadata": {},
   "outputs": [],
   "source": [
    "def get_top_sorted_users(user_id, df=df, user_item=user_item):\n",
    "    '''\n",
    "    INPUT:\n",
    "    user_id - (int)\n",
    "    df - (pandas dataframe) df as defined at the top of the notebook \n",
    "    user_item - (pandas dataframe) matrix of users by articles: \n",
    "            1's when a user has interacted with an article, 0 otherwise\n",
    "    \n",
    "            \n",
    "    OUTPUT:\n",
    "    neighbors_df - (pandas dataframe) a dataframe with:\n",
    "                    neighbor_id - is a neighbor user_id\n",
    "                    similarity - measure of the similarity of each user to the provided user_id\n",
    "                    num_interactions - the number of articles viewed by the user - if a u\n",
    "                    \n",
    "    Other Details - sort the neighbors_df by the similarity and then by number of interactions where \n",
    "                    highest of each is higher in the dataframe\n",
    "     \n",
    "    '''\n",
    "    \n",
    "    # Your code here\n",
    "    read_count = df.groupby('user_id').count()['title'].values\n",
    "    read_count = pd.DataFrame(read_count)\n",
    "    similarity = pd.DataFrame(np.dot(user_item[user_item.index == user_id],user_item.T),columns=user_item.index)\n",
    "    similarity = similarity.T\n",
    "    result = pd.concat([similarity, read_count], axis=1, join='inner')\n",
    "    result.columns = ['similarity','read_count']\n",
    "    # sort by similarity\n",
    "    result.sort_values(by=['similarity','read_count'],ascending=[False,False],inplace=True)\n",
    "    # create list of just the ids\n",
    "    neighbors_df = result.index.tolist()\n",
    "    # remove the own user's id\n",
    "    neighbors_df.remove(user_id) \n",
    "    \n",
    "    return neighbors_df # Return the dataframe specified in the doc_string\n",
    "\n",
    "\n",
    "def user_user_recs_part2(user_id, m=10):\n",
    "    '''\n",
    "    INPUT:\n",
    "    user_id - (int) a user id\n",
    "    m - (int) the number of recommendations you want for the user\n",
    "    \n",
    "    OUTPUT:\n",
    "    recs - (list) a list of recommendations for the user by article id\n",
    "    rec_names - (list) a list of recommendations for the user by article title\n",
    "    \n",
    "    Description:\n",
    "    Loops through the users based on closeness to the input user_id\n",
    "    For each user - finds articles the user hasn't seen before and provides them as recs\n",
    "    Does this until m recommendations are found\n",
    "    \n",
    "    Notes:\n",
    "    * Choose the users that have the most total article interactions \n",
    "    before choosing those with fewer article interactions.\n",
    "\n",
    "    * Choose articles with the articles with the most total interactions \n",
    "    before choosing those with fewer total interactions. \n",
    "   \n",
    "    '''\n",
    "    # Your code here\n",
    "    \n",
    "    recs = []\n",
    "    i = 1\n",
    "    most_similar_users = get_top_sorted_users(user_id)\n",
    "    list_article_read = get_user_articles(user_id)[0]\n",
    "    while len(recs) < m:\n",
    "    # list of the articles read by the i similar user\n",
    "        list_similar_read = get_user_articles(i)[0]\n",
    "        \n",
    "    # order them by most interactions   \n",
    "        df_by_article_ids = df[df['article_id'].isin(list_similar_read)].groupby('article_id').count()\n",
    "        df_by_article_ids_sorted = df_by_article_ids.sort_values('title',ascending=False)['title']\n",
    "    \n",
    "        top_articles_ids = []\n",
    "    \n",
    "        for i in range(0,df_by_article_ids_sorted.shape[0]):\n",
    "            top_articles_ids.append(df_by_article_ids_sorted.index[i])   \n",
    "    # identify the articles that where not already read by the user\n",
    "        not_read = list(set(top_articles_ids) - set(list_article_read))\n",
    "    # identify the articles that where not already recommended to the user\n",
    "        to_recommend = list(set(not_read) - set(recs))\n",
    "    # add the new recommendations to the recommendation list\n",
    "        recs.extend(to_recommend)\n",
    "        recs = list(set(recs))\n",
    "    # itarion through the next similar user\n",
    "        i +=1\n",
    "    # break the loop if whe already iterated through all the similar users\n",
    "        if i > len(most_similar_users):\n",
    "            break\n",
    "        else :\n",
    "            pass\n",
    "    \n",
    "    # add random article to the recommandation list if < m or cut if too many article\n",
    "    if len(recs)<m :\n",
    "        recs.extend(get_top_article_ids(m-len(recs)))\n",
    "        recs = recs[:m]\n",
    "    if len(recs) == m:\n",
    "        recs = recs\n",
    "    elif len(recs) > m:\n",
    "        recs = recs[:m]\n",
    "    \n",
    "    rec_names = get_article_names(recs)\n",
    "    return recs, rec_names"
   ]
  },
  {
   "cell_type": "code",
   "execution_count": 29,
   "metadata": {},
   "outputs": [
    {
     "name": "stdout",
     "output_type": "stream",
     "text": [
      "The top 10 recommendations for user 20 are the following article ids:\n",
      "[768.0, 390.0, 268.0, 1293.0, 910.0, 525.0, 1170.0, 1427.0, 1429.0, 1430.0]\n",
      "\n",
      "The top 10 recommendations for user 20 are the following article names:\n",
      "['using pixiedust for fast, flexible, and easier data analysis and experimentation', 'use deep learning for image classification', 'apache spark lab, part 1: basic concepts', 'use xgboost, scikit-learn & ibm watson machine learning apis', 'finding optimal locations of new store using decision optimization', 'sector correlations shiny app', 'new shiny cheat sheet and video tutorial', 'python if statements explained (python for data science basics #4)', 'working with ibm cloud object storage in python', 'introducing ibm watson studio ']\n"
     ]
    }
   ],
   "source": [
    "# Quick spot check - don't change this code - just use it to test your functions\n",
    "rec_ids, rec_names = user_user_recs_part2(20, 10)\n",
    "print(\"The top 10 recommendations for user 20 are the following article ids:\")\n",
    "print(rec_ids)\n",
    "print()\n",
    "print(\"The top 10 recommendations for user 20 are the following article names:\")\n",
    "print(rec_names)"
   ]
  },
  {
   "cell_type": "markdown",
   "metadata": {},
   "source": [
    "`5.` Use your functions from above to correctly fill in the solutions to the dictionary below.  Then test your dictionary against the solution.  Provide the code you need to answer each following the comments below."
   ]
  },
  {
   "cell_type": "code",
   "execution_count": 30,
   "metadata": {},
   "outputs": [],
   "source": [
    "### Tests with a dictionary of results\n",
    "user1_most_sim = get_top_sorted_users(1)[0]\n",
    "user131_10th_sim = get_top_sorted_users(131)[9]"
   ]
  },
  {
   "cell_type": "code",
   "execution_count": 31,
   "metadata": {},
   "outputs": [
    {
     "name": "stdout",
     "output_type": "stream",
     "text": [
      "This all looks good!  Nice job!\n"
     ]
    }
   ],
   "source": [
    "## Dictionary Test Here\n",
    "sol_5_dict = {\n",
    "    'The user that is most similar to user 1.': user1_most_sim, \n",
    "    'The user that is the 10th most similar to user 131': user131_10th_sim,\n",
    "}\n",
    "\n",
    "t.sol_5_test(sol_5_dict)"
   ]
  },
  {
   "cell_type": "markdown",
   "metadata": {},
   "source": [
    "`6.` If we were given a new user, which of the above functions would you be able to use to make recommendations?  Explain.  Can you think of a better way we might make recommendations?  Use the cell below to explain a better method for new users."
   ]
  },
  {
   "cell_type": "markdown",
   "metadata": {},
   "source": [
    "The most read or most trending articles have a higher probability to be interesting to our new user in comparison with an article with very few read. After after a few article read by the user we can start to recommand articles read by similar users or with similar subjects,..."
   ]
  },
  {
   "cell_type": "markdown",
   "metadata": {},
   "source": [
    "`7.` Using your existing functions, provide the top 10 recommended articles you would provide for the a new user below.  You can test your function against our thoughts to make sure we are all on the same page with how we might make a recommendation."
   ]
  },
  {
   "cell_type": "code",
   "execution_count": 32,
   "metadata": {},
   "outputs": [],
   "source": [
    "new_user = '0.0'\n",
    "\n",
    "# What would your recommendations be for this new user '0.0'?  As a new user, they have no observed articles.\n",
    "# Provide a list of the top 10 article ids you would give to \n",
    "new_user_recs = list(map(str,get_top_article_ids(10)))"
   ]
  },
  {
   "cell_type": "code",
   "execution_count": 33,
   "metadata": {},
   "outputs": [
    {
     "name": "stdout",
     "output_type": "stream",
     "text": [
      "That's right!  Nice job!\n"
     ]
    }
   ],
   "source": [
    "assert set(new_user_recs) == set(['1314.0','1429.0','1293.0','1427.0','1162.0','1364.0','1304.0','1170.0','1431.0','1330.0']), \"Oops!  It makes sense that in this case we would want to recommend the most popular articles, because we don't know anything about these users.\"\n",
    "\n",
    "print(\"That's right!  Nice job!\")"
   ]
  },
  {
   "cell_type": "markdown",
   "metadata": {},
   "source": [
    "### <a class=\"anchor\" id=\"Content-Recs\">Part IV: Content Based Recommendations (EXTRA - NOT REQUIRED)</a>\n",
    "\n",
    "Another method we might use to make recommendations is to perform a ranking of the highest ranked articles associated with some term.  You might consider content to be the **doc_body**, **doc_description**, or **doc_full_name**.  There isn't one way to create a content based recommendation, especially considering that each of these columns hold content related information.  \n",
    "\n",
    "`1.` Use the function body below to create a content based recommender.  Since there isn't one right answer for this recommendation tactic, no test functions are provided.  Feel free to change the function inputs if you decide you want to try a method that requires more input values.  The input values are currently set with one idea in mind that you may use to make content based recommendations.  One additional idea is that you might want to choose the most popular recommendations that meet your 'content criteria', but again, there is a lot of flexibility in how you might make these recommendations.\n",
    "\n",
    "### This part is NOT REQUIRED to pass this project.  However, you may choose to take this on as an extra way to show off your skills."
   ]
  },
  {
   "cell_type": "code",
   "execution_count": 34,
   "metadata": {},
   "outputs": [
    {
     "name": "stdout",
     "output_type": "stream",
     "text": [
      "[nltk_data] Downloading package punkt to /root/nltk_data...\n",
      "[nltk_data]   Unzipping tokenizers/punkt.zip.\n",
      "[nltk_data] Downloading package stopwords to /root/nltk_data...\n",
      "[nltk_data]   Unzipping corpora/stopwords.zip.\n",
      "[nltk_data] Downloading package wordnet to /root/nltk_data...\n",
      "[nltk_data]   Unzipping corpora/wordnet.zip.\n"
     ]
    },
    {
     "data": {
      "text/plain": [
       "True"
      ]
     },
     "execution_count": 34,
     "metadata": {},
     "output_type": "execute_result"
    }
   ],
   "source": [
    "# importing the libraries needed for the text analysis\n",
    "import re\n",
    "import nltk\n",
    "from nltk.corpus import stopwords\n",
    "from nltk.stem.wordnet import WordNetLemmatizer\n",
    "from nltk.tokenize import word_tokenize\n",
    "\n",
    "nltk.download('punkt')\n",
    "nltk.download('stopwords')\n",
    "nltk.download('wordnet')"
   ]
  },
  {
   "cell_type": "code",
   "execution_count": 35,
   "metadata": {},
   "outputs": [],
   "source": [
    "# tokenizing function\n",
    "def tokenize(text):\n",
    "    '''\n",
    "    INPUT: a unstructured text\n",
    "    \n",
    "    OUTPUT: clean tokens lowered,lemmatized, stop words removed\n",
    "    \n",
    "    '''\n",
    "    # normalize case and remove punctuation\n",
    "    text = re.sub(r\"[^a-zA-Z0-9]\",\" \", text.lower())\n",
    "    \n",
    "    tokens = word_tokenize(text)\n",
    "    lemmatizer = WordNetLemmatizer()\n",
    "    stop_words = stopwords.words('english')\n",
    "    \n",
    "    clean_tokens = []\n",
    "    for tok in tokens:\n",
    "        clean_tok = lemmatizer.lemmatize(tok).lower().strip()\n",
    "        clean_tokens.append(clean_tok)\n",
    "        clean_tokens = [tok for tok in clean_tokens if tok not in stop_words]\n",
    "    return clean_tokens"
   ]
  },
  {
   "cell_type": "code",
   "execution_count": 36,
   "metadata": {},
   "outputs": [
    {
     "name": "stdout",
     "output_type": "stream",
     "text": [
      "0\n",
      "100\n",
      "200\n",
      "300\n",
      "400\n",
      "500\n",
      "600\n",
      "700\n",
      "800\n",
      "900\n",
      "1000\n"
     ]
    }
   ],
   "source": [
    "# tokenization of the doc_full_name column of the df_content DataFrame and register in a python Dictionnary\n",
    "dict_full_name = {}\n",
    "for i in range(len(df_content['doc_full_name'])):\n",
    "    try:\n",
    "        dict_full_name[df_content['article_id'][i]] = (tokenize(df_content['doc_full_name'][i]))\n",
    "    except:\n",
    "        dict_full_name[i] = 0\n",
    "    if (i % 100) == 0:\n",
    "        print(i)"
   ]
  },
  {
   "cell_type": "code",
   "execution_count": 37,
   "metadata": {},
   "outputs": [
    {
     "name": "stdout",
     "output_type": "stream",
     "text": [
      "0\n",
      "100\n",
      "200\n",
      "300\n",
      "400\n",
      "500\n",
      "600\n",
      "700\n",
      "800\n",
      "900\n",
      "1000\n"
     ]
    }
   ],
   "source": [
    "# tokenization of the doc_description column of the df_content DataFrame and register in a python Dictionnary\n",
    "dict_doc_description = {}\n",
    "for i in range(len(df_content['doc_description'])):\n",
    "    try:\n",
    "        dict_doc_description[df_content['article_id'][i]] = (tokenize(df_content['doc_description'][i]))\n",
    "    except:\n",
    "        dict_doc_description[i] = 0\n",
    "    if (i % 100) == 0:\n",
    "        print(i)"
   ]
  },
  {
   "cell_type": "code",
   "execution_count": 38,
   "metadata": {},
   "outputs": [],
   "source": [
    "def make_content_recs(search=['python','data'],number_recommendation=5):\n",
    "    '''\n",
    "    INPUT: \n",
    "        - search : 1 or more search terms\n",
    "        - number_recommendation : the maximum number of recommandation that we want to obtain\n",
    "    \n",
    "    OUTPUT:\n",
    "        - list_results_name : a list of article names containing one or more of the search terms inside their article description\n",
    "        ordered by popularity with a maximum of articles defined with the 'number_recommendation'\n",
    "    \n",
    "    '''\n",
    "    \n",
    "# list articles containing the search term and ordered by frequency of reading\n",
    "    count_words = []\n",
    "    words = []\n",
    "    id_count = []\n",
    "\n",
    "    for key in dict_doc_description.keys():\n",
    "        try :\n",
    "            word = [word for word in dict_doc_description[key] if word in search]\n",
    "            words.append(word)\n",
    "            count_words.append(len(word))\n",
    "            id_count.append(key)\n",
    "        except:\n",
    "            words.append([''])\n",
    "            count_words.append(0)\n",
    "            id_count.append(key)\n",
    "\n",
    "    counting = pd.DataFrame({'count_words' : count_words,'id_count': id_count,'words' : words})\n",
    "    counting = counting[counting['count_words'] != 0]\n",
    "\n",
    "    df_by_article_ids = df.groupby('article_id').count()\n",
    "    df_by_article_ids_sorted = df_by_article_ids.sort_values('title',ascending=False)['title']\n",
    "    df_count_articles = pd.DataFrame(df_by_article_ids_sorted)\n",
    "    df_count_articles = df_count_articles.rename(columns={'title' : 'read_count'})\n",
    "    result = df_count_articles.join(counting,how='outer')\n",
    "    list_results = result[result['count_words'] > 0].sort_values(by='read_count',ascending=False).index.tolist()\n",
    "    list_results_name = get_article_names(list_results, df=df)\n",
    "    list_results_name = list_results_name[0:number_recommendation]\n",
    "    return list_results_name"
   ]
  },
  {
   "cell_type": "code",
   "execution_count": 39,
   "metadata": {},
   "outputs": [
    {
     "data": {
      "text/plain": [
       "['upload files to ibm data science experience using the command line',\n",
       " 'configuring the apache spark sql context',\n",
       " 'got zip code data? prep it for analytics. – ibm watson data lab – medium',\n",
       " 'getting started with python',\n",
       " 'timeseries data analysis of iot events by using jupyter notebook']"
      ]
     },
     "execution_count": 39,
     "metadata": {},
     "output_type": "execute_result"
    }
   ],
   "source": [
    "make_content_recs('data')"
   ]
  },
  {
   "cell_type": "markdown",
   "metadata": {},
   "source": [
    "`2.` Now that you have put together your content-based recommendation system, use the cell below to write a summary explaining how your content based recommender works.  Do you see any possible improvements that could be made to your function?  Is there anything novel about your content based recommender?\n",
    "\n",
    "### This part is NOT REQUIRED to pass this project.  However, you may choose to take this on as an extra way to show off your skills."
   ]
  },
  {
   "cell_type": "markdown",
   "metadata": {},
   "source": [
    "**Content based recommendation system**\n",
    "\n",
    "I wrote a recommendation system based on a research term indicated by the user. The recommender first tokenize the words in the description of all the articles and then return a list of the most consulted articles that contains theses words.\n",
    "\n",
    "A next step could be to identify the frequent terms that the user consults and recommend him articles based on thoses terms.\n",
    "Another improvement could be to identify the terms in the 'doc_body'column but the tokenization step was quite time consuming for my local computer."
   ]
  },
  {
   "cell_type": "markdown",
   "metadata": {},
   "source": [
    "`3.` Use your content-recommendation system to make recommendations for the below scenarios based on the comments.  Again no tests are provided here, because there isn't one right answer that could be used to find these content based recommendations.\n",
    "\n",
    "### This part is NOT REQUIRED to pass this project.  However, you may choose to take this on as an extra way to show off your skills."
   ]
  },
  {
   "cell_type": "code",
   "execution_count": 40,
   "metadata": {},
   "outputs": [],
   "source": [
    "# make recommendations for a brand new user\n",
    "\n",
    "\n",
    "# make a recommendations for a user who only has interacted with article id '1427.0'\n",
    "\n"
   ]
  },
  {
   "cell_type": "markdown",
   "metadata": {},
   "source": [
    "### <a class=\"anchor\" id=\"Matrix-Fact\">Part V: Matrix Factorization</a>\n",
    "\n",
    "In this part of the notebook, you will build use matrix factorization to make article recommendations to the users on the IBM Watson Studio platform.\n",
    "\n",
    "`1.` You should have already created a **user_item** matrix above in **question 1** of **Part III** above.  This first question here will just require that you run the cells to get things set up for the rest of **Part V** of the notebook. "
   ]
  },
  {
   "cell_type": "code",
   "execution_count": 41,
   "metadata": {},
   "outputs": [],
   "source": [
    "# Load the matrix here\n",
    "user_item_matrix = pd.read_pickle('user_item_matrix.p')"
   ]
  },
  {
   "cell_type": "code",
   "execution_count": 42,
   "metadata": {},
   "outputs": [
    {
     "data": {
      "text/html": [
       "<div>\n",
       "<style>\n",
       "    .dataframe thead tr:only-child th {\n",
       "        text-align: right;\n",
       "    }\n",
       "\n",
       "    .dataframe thead th {\n",
       "        text-align: left;\n",
       "    }\n",
       "\n",
       "    .dataframe tbody tr th {\n",
       "        vertical-align: top;\n",
       "    }\n",
       "</style>\n",
       "<table border=\"1\" class=\"dataframe\">\n",
       "  <thead>\n",
       "    <tr style=\"text-align: right;\">\n",
       "      <th>article_id</th>\n",
       "      <th>0.0</th>\n",
       "      <th>100.0</th>\n",
       "      <th>1000.0</th>\n",
       "      <th>1004.0</th>\n",
       "      <th>1006.0</th>\n",
       "      <th>1008.0</th>\n",
       "      <th>101.0</th>\n",
       "      <th>1014.0</th>\n",
       "      <th>1015.0</th>\n",
       "      <th>1016.0</th>\n",
       "      <th>...</th>\n",
       "      <th>977.0</th>\n",
       "      <th>98.0</th>\n",
       "      <th>981.0</th>\n",
       "      <th>984.0</th>\n",
       "      <th>985.0</th>\n",
       "      <th>986.0</th>\n",
       "      <th>990.0</th>\n",
       "      <th>993.0</th>\n",
       "      <th>996.0</th>\n",
       "      <th>997.0</th>\n",
       "    </tr>\n",
       "    <tr>\n",
       "      <th>user_id</th>\n",
       "      <th></th>\n",
       "      <th></th>\n",
       "      <th></th>\n",
       "      <th></th>\n",
       "      <th></th>\n",
       "      <th></th>\n",
       "      <th></th>\n",
       "      <th></th>\n",
       "      <th></th>\n",
       "      <th></th>\n",
       "      <th></th>\n",
       "      <th></th>\n",
       "      <th></th>\n",
       "      <th></th>\n",
       "      <th></th>\n",
       "      <th></th>\n",
       "      <th></th>\n",
       "      <th></th>\n",
       "      <th></th>\n",
       "      <th></th>\n",
       "      <th></th>\n",
       "    </tr>\n",
       "  </thead>\n",
       "  <tbody>\n",
       "    <tr>\n",
       "      <th>1</th>\n",
       "      <td>0.0</td>\n",
       "      <td>0.0</td>\n",
       "      <td>0.0</td>\n",
       "      <td>0.0</td>\n",
       "      <td>0.0</td>\n",
       "      <td>0.0</td>\n",
       "      <td>0.0</td>\n",
       "      <td>0.0</td>\n",
       "      <td>0.0</td>\n",
       "      <td>0.0</td>\n",
       "      <td>...</td>\n",
       "      <td>0.0</td>\n",
       "      <td>0.0</td>\n",
       "      <td>1.0</td>\n",
       "      <td>0.0</td>\n",
       "      <td>0.0</td>\n",
       "      <td>0.0</td>\n",
       "      <td>0.0</td>\n",
       "      <td>0.0</td>\n",
       "      <td>0.0</td>\n",
       "      <td>0.0</td>\n",
       "    </tr>\n",
       "    <tr>\n",
       "      <th>2</th>\n",
       "      <td>0.0</td>\n",
       "      <td>0.0</td>\n",
       "      <td>0.0</td>\n",
       "      <td>0.0</td>\n",
       "      <td>0.0</td>\n",
       "      <td>0.0</td>\n",
       "      <td>0.0</td>\n",
       "      <td>0.0</td>\n",
       "      <td>0.0</td>\n",
       "      <td>0.0</td>\n",
       "      <td>...</td>\n",
       "      <td>0.0</td>\n",
       "      <td>0.0</td>\n",
       "      <td>0.0</td>\n",
       "      <td>0.0</td>\n",
       "      <td>0.0</td>\n",
       "      <td>0.0</td>\n",
       "      <td>0.0</td>\n",
       "      <td>0.0</td>\n",
       "      <td>0.0</td>\n",
       "      <td>0.0</td>\n",
       "    </tr>\n",
       "    <tr>\n",
       "      <th>3</th>\n",
       "      <td>0.0</td>\n",
       "      <td>0.0</td>\n",
       "      <td>0.0</td>\n",
       "      <td>0.0</td>\n",
       "      <td>0.0</td>\n",
       "      <td>0.0</td>\n",
       "      <td>0.0</td>\n",
       "      <td>0.0</td>\n",
       "      <td>0.0</td>\n",
       "      <td>0.0</td>\n",
       "      <td>...</td>\n",
       "      <td>1.0</td>\n",
       "      <td>0.0</td>\n",
       "      <td>0.0</td>\n",
       "      <td>0.0</td>\n",
       "      <td>0.0</td>\n",
       "      <td>0.0</td>\n",
       "      <td>0.0</td>\n",
       "      <td>0.0</td>\n",
       "      <td>0.0</td>\n",
       "      <td>0.0</td>\n",
       "    </tr>\n",
       "    <tr>\n",
       "      <th>4</th>\n",
       "      <td>0.0</td>\n",
       "      <td>0.0</td>\n",
       "      <td>0.0</td>\n",
       "      <td>0.0</td>\n",
       "      <td>0.0</td>\n",
       "      <td>0.0</td>\n",
       "      <td>0.0</td>\n",
       "      <td>0.0</td>\n",
       "      <td>0.0</td>\n",
       "      <td>0.0</td>\n",
       "      <td>...</td>\n",
       "      <td>0.0</td>\n",
       "      <td>0.0</td>\n",
       "      <td>0.0</td>\n",
       "      <td>0.0</td>\n",
       "      <td>0.0</td>\n",
       "      <td>0.0</td>\n",
       "      <td>0.0</td>\n",
       "      <td>0.0</td>\n",
       "      <td>0.0</td>\n",
       "      <td>0.0</td>\n",
       "    </tr>\n",
       "    <tr>\n",
       "      <th>5</th>\n",
       "      <td>0.0</td>\n",
       "      <td>0.0</td>\n",
       "      <td>0.0</td>\n",
       "      <td>0.0</td>\n",
       "      <td>0.0</td>\n",
       "      <td>0.0</td>\n",
       "      <td>0.0</td>\n",
       "      <td>0.0</td>\n",
       "      <td>0.0</td>\n",
       "      <td>0.0</td>\n",
       "      <td>...</td>\n",
       "      <td>0.0</td>\n",
       "      <td>0.0</td>\n",
       "      <td>0.0</td>\n",
       "      <td>0.0</td>\n",
       "      <td>0.0</td>\n",
       "      <td>0.0</td>\n",
       "      <td>0.0</td>\n",
       "      <td>0.0</td>\n",
       "      <td>0.0</td>\n",
       "      <td>0.0</td>\n",
       "    </tr>\n",
       "  </tbody>\n",
       "</table>\n",
       "<p>5 rows × 714 columns</p>\n",
       "</div>"
      ],
      "text/plain": [
       "article_id  0.0  100.0  1000.0  1004.0  1006.0  1008.0  101.0  1014.0  1015.0  \\\n",
       "user_id                                                                         \n",
       "1           0.0    0.0     0.0     0.0     0.0     0.0    0.0     0.0     0.0   \n",
       "2           0.0    0.0     0.0     0.0     0.0     0.0    0.0     0.0     0.0   \n",
       "3           0.0    0.0     0.0     0.0     0.0     0.0    0.0     0.0     0.0   \n",
       "4           0.0    0.0     0.0     0.0     0.0     0.0    0.0     0.0     0.0   \n",
       "5           0.0    0.0     0.0     0.0     0.0     0.0    0.0     0.0     0.0   \n",
       "\n",
       "article_id  1016.0  ...    977.0  98.0  981.0  984.0  985.0  986.0  990.0  \\\n",
       "user_id             ...                                                     \n",
       "1              0.0  ...      0.0   0.0    1.0    0.0    0.0    0.0    0.0   \n",
       "2              0.0  ...      0.0   0.0    0.0    0.0    0.0    0.0    0.0   \n",
       "3              0.0  ...      1.0   0.0    0.0    0.0    0.0    0.0    0.0   \n",
       "4              0.0  ...      0.0   0.0    0.0    0.0    0.0    0.0    0.0   \n",
       "5              0.0  ...      0.0   0.0    0.0    0.0    0.0    0.0    0.0   \n",
       "\n",
       "article_id  993.0  996.0  997.0  \n",
       "user_id                          \n",
       "1             0.0    0.0    0.0  \n",
       "2             0.0    0.0    0.0  \n",
       "3             0.0    0.0    0.0  \n",
       "4             0.0    0.0    0.0  \n",
       "5             0.0    0.0    0.0  \n",
       "\n",
       "[5 rows x 714 columns]"
      ]
     },
     "execution_count": 42,
     "metadata": {},
     "output_type": "execute_result"
    }
   ],
   "source": [
    "# quick look at the matrix\n",
    "user_item_matrix.head()"
   ]
  },
  {
   "cell_type": "code",
   "execution_count": 43,
   "metadata": {},
   "outputs": [
    {
     "data": {
      "text/plain": [
       "0"
      ]
     },
     "execution_count": 43,
     "metadata": {},
     "output_type": "execute_result"
    }
   ],
   "source": [
    "user_item_matrix[user_item_matrix == 2].count().sum()"
   ]
  },
  {
   "cell_type": "markdown",
   "metadata": {},
   "source": [
    "`2.` In this situation, you can use Singular Value Decomposition from [numpy](https://docs.scipy.org/doc/numpy-1.14.0/reference/generated/numpy.linalg.svd.html) on the user-item matrix.  Use the cell to perform SVD, and explain why this is different than in the lesson."
   ]
  },
  {
   "cell_type": "code",
   "execution_count": 44,
   "metadata": {},
   "outputs": [],
   "source": [
    "# Perform SVD on the User-Item Matrix Here\n",
    "u, s, vt = np.linalg.svd(user_item_matrix)# use the built in to get the three matrices"
   ]
  },
  {
   "cell_type": "code",
   "execution_count": 45,
   "metadata": {},
   "outputs": [
    {
     "data": {
      "text/plain": [
       "((5149, 5149), (714,), (714, 714))"
      ]
     },
     "execution_count": 45,
     "metadata": {},
     "output_type": "execute_result"
    }
   ],
   "source": [
    "u.shape,s.shape,vt.shape"
   ]
  },
  {
   "cell_type": "markdown",
   "metadata": {},
   "source": [
    "There is no missing values in the matrices so we can use SVD without performing any data imputation."
   ]
  },
  {
   "cell_type": "markdown",
   "metadata": {},
   "source": [
    "`3.` Now for the tricky part, how do we choose the number of latent features to use?  Running the below cell, you can see that as the number of latent features increases, we obtain a lower error rate on making predictions for the 1 and 0 values in the user-item matrix.  Run the cell below to get an idea of how the accuracy improves as we increase the number of latent features."
   ]
  },
  {
   "cell_type": "code",
   "execution_count": 46,
   "metadata": {},
   "outputs": [
    {
     "data": {
      "image/png": "[encoded data removed]",
      "text/plain": [
       "<matplotlib.figure.Figure at 0x7f720359f400>"
      ]
     },
     "metadata": {
      "needs_background": "light"
     },
     "output_type": "display_data"
    }
   ],
   "source": [
    "num_latent_feats = np.arange(10,700+10,20)\n",
    "sum_errs = []\n",
    "\n",
    "for k in num_latent_feats:\n",
    "    # restructure with k latent features\n",
    "    s_new, u_new, vt_new = np.diag(s[:k]), u[:, :k], vt[:k, :]\n",
    "    \n",
    "    # take dot product\n",
    "    user_item_est = np.around(np.dot(np.dot(u_new, s_new), vt_new))\n",
    "    \n",
    "    # compute error for each prediction to actual value\n",
    "    diffs = np.subtract(user_item_matrix, user_item_est)\n",
    "    \n",
    "    # total errors and keep track of them\n",
    "    err = np.sum(np.sum(np.abs(diffs)))\n",
    "    sum_errs.append(err)\n",
    "    \n",
    "    \n",
    "plt.plot(num_latent_feats, 1 - np.array(sum_errs)/df.shape[0]);\n",
    "plt.xlabel('Number of Latent Features');\n",
    "plt.ylabel('Accuracy');\n",
    "plt.title('Accuracy vs. Number of Latent Features');"
   ]
  },
  {
   "cell_type": "code",
   "execution_count": 47,
   "metadata": {},
   "outputs": [
    {
     "data": {
      "text/plain": [
       "array([ 10,  30,  50,  70,  90, 110, 130, 150, 170, 190, 210, 230, 250,\n",
       "       270, 290, 310, 330, 350, 370, 390, 410, 430, 450, 470, 490, 510,\n",
       "       530, 550, 570, 590, 610, 630, 650, 670, 690])"
      ]
     },
     "execution_count": 47,
     "metadata": {},
     "output_type": "execute_result"
    }
   ],
   "source": [
    "num_latent_feats = np.arange(10,700+10,20)\n",
    "num_latent_feats"
   ]
  },
  {
   "cell_type": "markdown",
   "metadata": {},
   "source": [
    "`4.` From the above, we can't really be sure how many features to use, because simply having a better way to predict the 1's and 0's of the matrix doesn't exactly give us an indication of if we are able to make good recommendations.  Instead, we might split our dataset into a training and test set of data, as shown in the cell below.  \n",
    "\n",
    "Use the code from question 3 to understand the impact on accuracy of the training and test sets of data with different numbers of latent features. Using the split below: \n",
    "\n",
    "* How many users can we make predictions for in the test set?  \n",
    "* How many users are we not able to make predictions for because of the cold start problem?\n",
    "* How many movies can we make predictions for in the test set?  \n",
    "* How many movies are we not able to make predictions for because of the cold start problem?"
   ]
  },
  {
   "cell_type": "code",
   "execution_count": 48,
   "metadata": {},
   "outputs": [],
   "source": [
    "df_train = df.head(40000)\n",
    "df_test = df.tail(5993)\n",
    "\n",
    "def create_test_and_train_user_item(df_train, df_test):\n",
    "    '''\n",
    "    INPUT:\n",
    "    df_train - training dataframe\n",
    "    df_test - test dataframe\n",
    "    \n",
    "    OUTPUT:\n",
    "    user_item_train - a user-item matrix of the training dataframe \n",
    "                      (unique users for each row and unique articles for each column)\n",
    "    user_item_test - a user-item matrix of the testing dataframe \n",
    "                    (unique users for each row and unique articles for each column)\n",
    "    test_idx - all of the test user ids\n",
    "    test_arts - all of the test article ids\n",
    "    \n",
    "    '''\n",
    "    # Your code here\n",
    "    user_item_train = create_user_item_matrix(df_train) \n",
    "    #df_train.groupby('user_id')['article_id'].value_counts().unstack().fillna(0)\n",
    "    user_item_test = create_user_item_matrix(df_test)\n",
    "    #df_test.groupby('user_id')['article_id'].value_counts().unstack().fillna(0)\n",
    "    \n",
    "    test_idx = user_item_test.index.tolist()\n",
    "    test_arts = user_item_test.columns.tolist()\n",
    "    \n",
    "    return user_item_train, user_item_test, test_idx, test_arts\n",
    "\n",
    "user_item_train, user_item_test, test_idx, test_arts = create_test_and_train_user_item(df_train, df_test)"
   ]
  },
  {
   "cell_type": "code",
   "execution_count": 49,
   "metadata": {},
   "outputs": [
    {
     "data": {
      "text/html": [
       "<div>\n",
       "<style>\n",
       "    .dataframe thead tr:only-child th {\n",
       "        text-align: right;\n",
       "    }\n",
       "\n",
       "    .dataframe thead th {\n",
       "        text-align: left;\n",
       "    }\n",
       "\n",
       "    .dataframe tbody tr th {\n",
       "        vertical-align: top;\n",
       "    }\n",
       "</style>\n",
       "<table border=\"1\" class=\"dataframe\">\n",
       "  <thead>\n",
       "    <tr style=\"text-align: right;\">\n",
       "      <th>article_id</th>\n",
       "      <th>0.0</th>\n",
       "      <th>2.0</th>\n",
       "      <th>4.0</th>\n",
       "      <th>8.0</th>\n",
       "      <th>9.0</th>\n",
       "      <th>12.0</th>\n",
       "      <th>14.0</th>\n",
       "      <th>15.0</th>\n",
       "      <th>16.0</th>\n",
       "      <th>18.0</th>\n",
       "      <th>...</th>\n",
       "      <th>1432.0</th>\n",
       "      <th>1433.0</th>\n",
       "      <th>1434.0</th>\n",
       "      <th>1435.0</th>\n",
       "      <th>1436.0</th>\n",
       "      <th>1437.0</th>\n",
       "      <th>1439.0</th>\n",
       "      <th>1440.0</th>\n",
       "      <th>1441.0</th>\n",
       "      <th>1443.0</th>\n",
       "    </tr>\n",
       "  </thead>\n",
       "  <tbody>\n",
       "    <tr>\n",
       "      <th>count</th>\n",
       "      <td>682.000000</td>\n",
       "      <td>682.000000</td>\n",
       "      <td>682.000000</td>\n",
       "      <td>682.000000</td>\n",
       "      <td>682.000000</td>\n",
       "      <td>682.000000</td>\n",
       "      <td>682.000000</td>\n",
       "      <td>682.000000</td>\n",
       "      <td>682.000000</td>\n",
       "      <td>682.000000</td>\n",
       "      <td>...</td>\n",
       "      <td>682.000000</td>\n",
       "      <td>682.000000</td>\n",
       "      <td>682.000000</td>\n",
       "      <td>682.000000</td>\n",
       "      <td>682.000000</td>\n",
       "      <td>682.000000</td>\n",
       "      <td>682.000000</td>\n",
       "      <td>682.000000</td>\n",
       "      <td>682.000000</td>\n",
       "      <td>682.000000</td>\n",
       "    </tr>\n",
       "    <tr>\n",
       "      <th>mean</th>\n",
       "      <td>0.002933</td>\n",
       "      <td>0.013196</td>\n",
       "      <td>0.001466</td>\n",
       "      <td>0.017595</td>\n",
       "      <td>0.001466</td>\n",
       "      <td>0.021994</td>\n",
       "      <td>0.020528</td>\n",
       "      <td>0.014663</td>\n",
       "      <td>0.019062</td>\n",
       "      <td>0.014663</td>\n",
       "      <td>...</td>\n",
       "      <td>0.036657</td>\n",
       "      <td>0.017595</td>\n",
       "      <td>0.008798</td>\n",
       "      <td>0.014663</td>\n",
       "      <td>0.065982</td>\n",
       "      <td>0.017595</td>\n",
       "      <td>0.004399</td>\n",
       "      <td>0.004399</td>\n",
       "      <td>0.001466</td>\n",
       "      <td>0.004399</td>\n",
       "    </tr>\n",
       "    <tr>\n",
       "      <th>std</th>\n",
       "      <td>0.054113</td>\n",
       "      <td>0.114199</td>\n",
       "      <td>0.038292</td>\n",
       "      <td>0.131572</td>\n",
       "      <td>0.038292</td>\n",
       "      <td>0.146772</td>\n",
       "      <td>0.141901</td>\n",
       "      <td>0.120287</td>\n",
       "      <td>0.136842</td>\n",
       "      <td>0.120287</td>\n",
       "      <td>...</td>\n",
       "      <td>0.188056</td>\n",
       "      <td>0.131572</td>\n",
       "      <td>0.093451</td>\n",
       "      <td>0.120287</td>\n",
       "      <td>0.248434</td>\n",
       "      <td>0.131572</td>\n",
       "      <td>0.066226</td>\n",
       "      <td>0.066226</td>\n",
       "      <td>0.038292</td>\n",
       "      <td>0.066226</td>\n",
       "    </tr>\n",
       "    <tr>\n",
       "      <th>min</th>\n",
       "      <td>0.000000</td>\n",
       "      <td>0.000000</td>\n",
       "      <td>0.000000</td>\n",
       "      <td>0.000000</td>\n",
       "      <td>0.000000</td>\n",
       "      <td>0.000000</td>\n",
       "      <td>0.000000</td>\n",
       "      <td>0.000000</td>\n",
       "      <td>0.000000</td>\n",
       "      <td>0.000000</td>\n",
       "      <td>...</td>\n",
       "      <td>0.000000</td>\n",
       "      <td>0.000000</td>\n",
       "      <td>0.000000</td>\n",
       "      <td>0.000000</td>\n",
       "      <td>0.000000</td>\n",
       "      <td>0.000000</td>\n",
       "      <td>0.000000</td>\n",
       "      <td>0.000000</td>\n",
       "      <td>0.000000</td>\n",
       "      <td>0.000000</td>\n",
       "    </tr>\n",
       "    <tr>\n",
       "      <th>25%</th>\n",
       "      <td>0.000000</td>\n",
       "      <td>0.000000</td>\n",
       "      <td>0.000000</td>\n",
       "      <td>0.000000</td>\n",
       "      <td>0.000000</td>\n",
       "      <td>0.000000</td>\n",
       "      <td>0.000000</td>\n",
       "      <td>0.000000</td>\n",
       "      <td>0.000000</td>\n",
       "      <td>0.000000</td>\n",
       "      <td>...</td>\n",
       "      <td>0.000000</td>\n",
       "      <td>0.000000</td>\n",
       "      <td>0.000000</td>\n",
       "      <td>0.000000</td>\n",
       "      <td>0.000000</td>\n",
       "      <td>0.000000</td>\n",
       "      <td>0.000000</td>\n",
       "      <td>0.000000</td>\n",
       "      <td>0.000000</td>\n",
       "      <td>0.000000</td>\n",
       "    </tr>\n",
       "    <tr>\n",
       "      <th>50%</th>\n",
       "      <td>0.000000</td>\n",
       "      <td>0.000000</td>\n",
       "      <td>0.000000</td>\n",
       "      <td>0.000000</td>\n",
       "      <td>0.000000</td>\n",
       "      <td>0.000000</td>\n",
       "      <td>0.000000</td>\n",
       "      <td>0.000000</td>\n",
       "      <td>0.000000</td>\n",
       "      <td>0.000000</td>\n",
       "      <td>...</td>\n",
       "      <td>0.000000</td>\n",
       "      <td>0.000000</td>\n",
       "      <td>0.000000</td>\n",
       "      <td>0.000000</td>\n",
       "      <td>0.000000</td>\n",
       "      <td>0.000000</td>\n",
       "      <td>0.000000</td>\n",
       "      <td>0.000000</td>\n",
       "      <td>0.000000</td>\n",
       "      <td>0.000000</td>\n",
       "    </tr>\n",
       "    <tr>\n",
       "      <th>75%</th>\n",
       "      <td>0.000000</td>\n",
       "      <td>0.000000</td>\n",
       "      <td>0.000000</td>\n",
       "      <td>0.000000</td>\n",
       "      <td>0.000000</td>\n",
       "      <td>0.000000</td>\n",
       "      <td>0.000000</td>\n",
       "      <td>0.000000</td>\n",
       "      <td>0.000000</td>\n",
       "      <td>0.000000</td>\n",
       "      <td>...</td>\n",
       "      <td>0.000000</td>\n",
       "      <td>0.000000</td>\n",
       "      <td>0.000000</td>\n",
       "      <td>0.000000</td>\n",
       "      <td>0.000000</td>\n",
       "      <td>0.000000</td>\n",
       "      <td>0.000000</td>\n",
       "      <td>0.000000</td>\n",
       "      <td>0.000000</td>\n",
       "      <td>0.000000</td>\n",
       "    </tr>\n",
       "    <tr>\n",
       "      <th>max</th>\n",
       "      <td>1.000000</td>\n",
       "      <td>1.000000</td>\n",
       "      <td>1.000000</td>\n",
       "      <td>1.000000</td>\n",
       "      <td>1.000000</td>\n",
       "      <td>1.000000</td>\n",
       "      <td>1.000000</td>\n",
       "      <td>1.000000</td>\n",
       "      <td>1.000000</td>\n",
       "      <td>1.000000</td>\n",
       "      <td>...</td>\n",
       "      <td>1.000000</td>\n",
       "      <td>1.000000</td>\n",
       "      <td>1.000000</td>\n",
       "      <td>1.000000</td>\n",
       "      <td>1.000000</td>\n",
       "      <td>1.000000</td>\n",
       "      <td>1.000000</td>\n",
       "      <td>1.000000</td>\n",
       "      <td>1.000000</td>\n",
       "      <td>1.000000</td>\n",
       "    </tr>\n",
       "  </tbody>\n",
       "</table>\n",
       "<p>8 rows × 574 columns</p>\n",
       "</div>"
      ],
      "text/plain": [
       "article_id      0.0         2.0         4.0         8.0         9.0     \\\n",
       "count       682.000000  682.000000  682.000000  682.000000  682.000000   \n",
       "mean          0.002933    0.013196    0.001466    0.017595    0.001466   \n",
       "std           0.054113    0.114199    0.038292    0.131572    0.038292   \n",
       "min           0.000000    0.000000    0.000000    0.000000    0.000000   \n",
       "25%           0.000000    0.000000    0.000000    0.000000    0.000000   \n",
       "50%           0.000000    0.000000    0.000000    0.000000    0.000000   \n",
       "75%           0.000000    0.000000    0.000000    0.000000    0.000000   \n",
       "max           1.000000    1.000000    1.000000    1.000000    1.000000   \n",
       "\n",
       "article_id      12.0        14.0        15.0        16.0        18.0    \\\n",
       "count       682.000000  682.000000  682.000000  682.000000  682.000000   \n",
       "mean          0.021994    0.020528    0.014663    0.019062    0.014663   \n",
       "std           0.146772    0.141901    0.120287    0.136842    0.120287   \n",
       "min           0.000000    0.000000    0.000000    0.000000    0.000000   \n",
       "25%           0.000000    0.000000    0.000000    0.000000    0.000000   \n",
       "50%           0.000000    0.000000    0.000000    0.000000    0.000000   \n",
       "75%           0.000000    0.000000    0.000000    0.000000    0.000000   \n",
       "max           1.000000    1.000000    1.000000    1.000000    1.000000   \n",
       "\n",
       "article_id     ...          1432.0      1433.0      1434.0      1435.0  \\\n",
       "count          ...      682.000000  682.000000  682.000000  682.000000   \n",
       "mean           ...        0.036657    0.017595    0.008798    0.014663   \n",
       "std            ...        0.188056    0.131572    0.093451    0.120287   \n",
       "min            ...        0.000000    0.000000    0.000000    0.000000   \n",
       "25%            ...        0.000000    0.000000    0.000000    0.000000   \n",
       "50%            ...        0.000000    0.000000    0.000000    0.000000   \n",
       "75%            ...        0.000000    0.000000    0.000000    0.000000   \n",
       "max            ...        1.000000    1.000000    1.000000    1.000000   \n",
       "\n",
       "article_id      1436.0      1437.0      1439.0      1440.0      1441.0  \\\n",
       "count       682.000000  682.000000  682.000000  682.000000  682.000000   \n",
       "mean          0.065982    0.017595    0.004399    0.004399    0.001466   \n",
       "std           0.248434    0.131572    0.066226    0.066226    0.038292   \n",
       "min           0.000000    0.000000    0.000000    0.000000    0.000000   \n",
       "25%           0.000000    0.000000    0.000000    0.000000    0.000000   \n",
       "50%           0.000000    0.000000    0.000000    0.000000    0.000000   \n",
       "75%           0.000000    0.000000    0.000000    0.000000    0.000000   \n",
       "max           1.000000    1.000000    1.000000    1.000000    1.000000   \n",
       "\n",
       "article_id      1443.0  \n",
       "count       682.000000  \n",
       "mean          0.004399  \n",
       "std           0.066226  \n",
       "min           0.000000  \n",
       "25%           0.000000  \n",
       "50%           0.000000  \n",
       "75%           0.000000  \n",
       "max           1.000000  \n",
       "\n",
       "[8 rows x 574 columns]"
      ]
     },
     "execution_count": 49,
     "metadata": {},
     "output_type": "execute_result"
    }
   ],
   "source": [
    "user_item_test.describe()"
   ]
  },
  {
   "cell_type": "code",
   "execution_count": 50,
   "metadata": {},
   "outputs": [
    {
     "data": {
      "text/plain": [
       "[2917,\n",
       " 3024,\n",
       " 3093,\n",
       " 3193,\n",
       " 3527,\n",
       " 3532,\n",
       " 3684,\n",
       " 3740,\n",
       " 3777,\n",
       " 3801,\n",
       " 3968,\n",
       " 3989,\n",
       " 3990,\n",
       " 3998,\n",
       " 4002,\n",
       " 4204,\n",
       " 4231,\n",
       " 4274,\n",
       " 4293,\n",
       " 4487,\n",
       " 4488,\n",
       " 4489,\n",
       " 4490,\n",
       " 4491,\n",
       " 4492,\n",
       " 4493,\n",
       " 4494,\n",
       " 4495,\n",
       " 4496,\n",
       " 4497,\n",
       " 4498,\n",
       " 4499,\n",
       " 4500,\n",
       " 4501,\n",
       " 4502,\n",
       " 4503,\n",
       " 4504,\n",
       " 4505,\n",
       " 4506,\n",
       " 4507,\n",
       " 4508,\n",
       " 4509,\n",
       " 4510,\n",
       " 4511,\n",
       " 4512,\n",
       " 4513,\n",
       " 4514,\n",
       " 4515,\n",
       " 4516,\n",
       " 4517,\n",
       " 4518,\n",
       " 4519,\n",
       " 4520,\n",
       " 4521,\n",
       " 4522,\n",
       " 4523,\n",
       " 4524,\n",
       " 4525,\n",
       " 4526,\n",
       " 4527,\n",
       " 4528,\n",
       " 4529,\n",
       " 4530,\n",
       " 4531,\n",
       " 4532,\n",
       " 4533,\n",
       " 4534,\n",
       " 4535,\n",
       " 4536,\n",
       " 4537,\n",
       " 4538,\n",
       " 4539,\n",
       " 4540,\n",
       " 4541,\n",
       " 4542,\n",
       " 4543,\n",
       " 4544,\n",
       " 4545,\n",
       " 4546,\n",
       " 4547,\n",
       " 4548,\n",
       " 4549,\n",
       " 4550,\n",
       " 4551,\n",
       " 4552,\n",
       " 4553,\n",
       " 4554,\n",
       " 4555,\n",
       " 4556,\n",
       " 4557,\n",
       " 4558,\n",
       " 4559,\n",
       " 4560,\n",
       " 4561,\n",
       " 4562,\n",
       " 4563,\n",
       " 4564,\n",
       " 4565,\n",
       " 4566,\n",
       " 4567,\n",
       " 4568,\n",
       " 4569,\n",
       " 4570,\n",
       " 4571,\n",
       " 4572,\n",
       " 4573,\n",
       " 4574,\n",
       " 4575,\n",
       " 4576,\n",
       " 4577,\n",
       " 4578,\n",
       " 4579,\n",
       " 4580,\n",
       " 4581,\n",
       " 4582,\n",
       " 4583,\n",
       " 4584,\n",
       " 4585,\n",
       " 4586,\n",
       " 4587,\n",
       " 4588,\n",
       " 4589,\n",
       " 4590,\n",
       " 4591,\n",
       " 4592,\n",
       " 4593,\n",
       " 4594,\n",
       " 4595,\n",
       " 4596,\n",
       " 4597,\n",
       " 4598,\n",
       " 4599,\n",
       " 4600,\n",
       " 4601,\n",
       " 4602,\n",
       " 4603,\n",
       " 4604,\n",
       " 4605,\n",
       " 4606,\n",
       " 4607,\n",
       " 4608,\n",
       " 4609,\n",
       " 4610,\n",
       " 4611,\n",
       " 4612,\n",
       " 4613,\n",
       " 4614,\n",
       " 4615,\n",
       " 4616,\n",
       " 4617,\n",
       " 4618,\n",
       " 4619,\n",
       " 4620,\n",
       " 4621,\n",
       " 4622,\n",
       " 4623,\n",
       " 4624,\n",
       " 4625,\n",
       " 4626,\n",
       " 4627,\n",
       " 4628,\n",
       " 4629,\n",
       " 4630,\n",
       " 4631,\n",
       " 4632,\n",
       " 4633,\n",
       " 4634,\n",
       " 4635,\n",
       " 4636,\n",
       " 4637,\n",
       " 4638,\n",
       " 4639,\n",
       " 4640,\n",
       " 4641,\n",
       " 4642,\n",
       " 4643,\n",
       " 4644,\n",
       " 4645,\n",
       " 4646,\n",
       " 4647,\n",
       " 4648,\n",
       " 4649,\n",
       " 4650,\n",
       " 4651,\n",
       " 4652,\n",
       " 4653,\n",
       " 4654,\n",
       " 4655,\n",
       " 4656,\n",
       " 4657,\n",
       " 4658,\n",
       " 4659,\n",
       " 4660,\n",
       " 4661,\n",
       " 4662,\n",
       " 4663,\n",
       " 4664,\n",
       " 4665,\n",
       " 4666,\n",
       " 4667,\n",
       " 4668,\n",
       " 4669,\n",
       " 4670,\n",
       " 4671,\n",
       " 4672,\n",
       " 4673,\n",
       " 4674,\n",
       " 4675,\n",
       " 4676,\n",
       " 4677,\n",
       " 4678,\n",
       " 4679,\n",
       " 4680,\n",
       " 4681,\n",
       " 4682,\n",
       " 4683,\n",
       " 4684,\n",
       " 4685,\n",
       " 4686,\n",
       " 4687,\n",
       " 4688,\n",
       " 4689,\n",
       " 4690,\n",
       " 4691,\n",
       " 4692,\n",
       " 4693,\n",
       " 4694,\n",
       " 4695,\n",
       " 4696,\n",
       " 4697,\n",
       " 4698,\n",
       " 4699,\n",
       " 4700,\n",
       " 4701,\n",
       " 4702,\n",
       " 4703,\n",
       " 4704,\n",
       " 4705,\n",
       " 4706,\n",
       " 4707,\n",
       " 4708,\n",
       " 4709,\n",
       " 4710,\n",
       " 4711,\n",
       " 4712,\n",
       " 4713,\n",
       " 4714,\n",
       " 4715,\n",
       " 4716,\n",
       " 4717,\n",
       " 4718,\n",
       " 4719,\n",
       " 4720,\n",
       " 4721,\n",
       " 4722,\n",
       " 4723,\n",
       " 4724,\n",
       " 4725,\n",
       " 4726,\n",
       " 4727,\n",
       " 4728,\n",
       " 4729,\n",
       " 4730,\n",
       " 4731,\n",
       " 4732,\n",
       " 4733,\n",
       " 4734,\n",
       " 4735,\n",
       " 4736,\n",
       " 4737,\n",
       " 4738,\n",
       " 4739,\n",
       " 4740,\n",
       " 4741,\n",
       " 4742,\n",
       " 4743,\n",
       " 4744,\n",
       " 4745,\n",
       " 4746,\n",
       " 4747,\n",
       " 4748,\n",
       " 4749,\n",
       " 4750,\n",
       " 4751,\n",
       " 4752,\n",
       " 4753,\n",
       " 4754,\n",
       " 4755,\n",
       " 4756,\n",
       " 4757,\n",
       " 4758,\n",
       " 4759,\n",
       " 4760,\n",
       " 4761,\n",
       " 4762,\n",
       " 4763,\n",
       " 4764,\n",
       " 4765,\n",
       " 4766,\n",
       " 4767,\n",
       " 4768,\n",
       " 4769,\n",
       " 4770,\n",
       " 4771,\n",
       " 4772,\n",
       " 4773,\n",
       " 4774,\n",
       " 4775,\n",
       " 4776,\n",
       " 4777,\n",
       " 4778,\n",
       " 4779,\n",
       " 4780,\n",
       " 4781,\n",
       " 4782,\n",
       " 4783,\n",
       " 4784,\n",
       " 4785,\n",
       " 4786,\n",
       " 4787,\n",
       " 4788,\n",
       " 4789,\n",
       " 4790,\n",
       " 4791,\n",
       " 4792,\n",
       " 4793,\n",
       " 4794,\n",
       " 4795,\n",
       " 4796,\n",
       " 4797,\n",
       " 4798,\n",
       " 4799,\n",
       " 4800,\n",
       " 4801,\n",
       " 4802,\n",
       " 4803,\n",
       " 4804,\n",
       " 4805,\n",
       " 4806,\n",
       " 4807,\n",
       " 4808,\n",
       " 4809,\n",
       " 4810,\n",
       " 4811,\n",
       " 4812,\n",
       " 4813,\n",
       " 4814,\n",
       " 4815,\n",
       " 4816,\n",
       " 4817,\n",
       " 4818,\n",
       " 4819,\n",
       " 4820,\n",
       " 4821,\n",
       " 4822,\n",
       " 4823,\n",
       " 4824,\n",
       " 4825,\n",
       " 4826,\n",
       " 4827,\n",
       " 4828,\n",
       " 4829,\n",
       " 4830,\n",
       " 4831,\n",
       " 4832,\n",
       " 4833,\n",
       " 4834,\n",
       " 4835,\n",
       " 4836,\n",
       " 4837,\n",
       " 4838,\n",
       " 4839,\n",
       " 4840,\n",
       " 4841,\n",
       " 4842,\n",
       " 4843,\n",
       " 4844,\n",
       " 4845,\n",
       " 4846,\n",
       " 4847,\n",
       " 4848,\n",
       " 4849,\n",
       " 4850,\n",
       " 4851,\n",
       " 4852,\n",
       " 4853,\n",
       " 4854,\n",
       " 4855,\n",
       " 4856,\n",
       " 4857,\n",
       " 4858,\n",
       " 4859,\n",
       " 4860,\n",
       " 4861,\n",
       " 4862,\n",
       " 4863,\n",
       " 4864,\n",
       " 4865,\n",
       " 4866,\n",
       " 4867,\n",
       " 4868,\n",
       " 4869,\n",
       " 4870,\n",
       " 4871,\n",
       " 4872,\n",
       " 4873,\n",
       " 4874,\n",
       " 4875,\n",
       " 4876,\n",
       " 4877,\n",
       " 4878,\n",
       " 4879,\n",
       " 4880,\n",
       " 4881,\n",
       " 4882,\n",
       " 4883,\n",
       " 4884,\n",
       " 4885,\n",
       " 4886,\n",
       " 4887,\n",
       " 4888,\n",
       " 4889,\n",
       " 4890,\n",
       " 4891,\n",
       " 4892,\n",
       " 4893,\n",
       " 4894,\n",
       " 4895,\n",
       " 4896,\n",
       " 4897,\n",
       " 4898,\n",
       " 4899,\n",
       " 4900,\n",
       " 4901,\n",
       " 4902,\n",
       " 4903,\n",
       " 4904,\n",
       " 4905,\n",
       " 4906,\n",
       " 4907,\n",
       " 4908,\n",
       " 4909,\n",
       " 4910,\n",
       " 4911,\n",
       " 4912,\n",
       " 4913,\n",
       " 4914,\n",
       " 4915,\n",
       " 4916,\n",
       " 4917,\n",
       " 4918,\n",
       " 4919,\n",
       " 4920,\n",
       " 4921,\n",
       " 4922,\n",
       " 4923,\n",
       " 4924,\n",
       " 4925,\n",
       " 4926,\n",
       " 4927,\n",
       " 4928,\n",
       " 4929,\n",
       " 4930,\n",
       " 4931,\n",
       " 4932,\n",
       " 4933,\n",
       " 4934,\n",
       " 4935,\n",
       " 4936,\n",
       " 4937,\n",
       " 4938,\n",
       " 4939,\n",
       " 4940,\n",
       " 4941,\n",
       " 4942,\n",
       " 4943,\n",
       " 4944,\n",
       " 4945,\n",
       " 4946,\n",
       " 4947,\n",
       " 4948,\n",
       " 4949,\n",
       " 4950,\n",
       " 4951,\n",
       " 4952,\n",
       " 4953,\n",
       " 4954,\n",
       " 4955,\n",
       " 4956,\n",
       " 4957,\n",
       " 4958,\n",
       " 4959,\n",
       " 4960,\n",
       " 4961,\n",
       " 4962,\n",
       " 4963,\n",
       " 4964,\n",
       " 4965,\n",
       " 4966,\n",
       " 4967,\n",
       " 4968,\n",
       " 4969,\n",
       " 4970,\n",
       " 4971,\n",
       " 4972,\n",
       " 4973,\n",
       " 4974,\n",
       " 4975,\n",
       " 4976,\n",
       " 4977,\n",
       " 4978,\n",
       " 4979,\n",
       " 4980,\n",
       " 4981,\n",
       " 4982,\n",
       " 4983,\n",
       " 4984,\n",
       " 4985,\n",
       " 4986,\n",
       " 4987,\n",
       " 4988,\n",
       " 4989,\n",
       " 4990,\n",
       " 4991,\n",
       " 4992,\n",
       " 4993,\n",
       " 4994,\n",
       " 4995,\n",
       " 4996,\n",
       " 4997,\n",
       " 4998,\n",
       " 4999,\n",
       " 5000,\n",
       " 5001,\n",
       " 5002,\n",
       " 5003,\n",
       " 5004,\n",
       " 5005,\n",
       " 5006,\n",
       " 5007,\n",
       " 5008,\n",
       " 5009,\n",
       " 5010,\n",
       " 5011,\n",
       " 5012,\n",
       " 5013,\n",
       " 5014,\n",
       " 5015,\n",
       " 5016,\n",
       " 5017,\n",
       " 5018,\n",
       " 5019,\n",
       " 5020,\n",
       " 5021,\n",
       " 5022,\n",
       " 5023,\n",
       " 5024,\n",
       " 5025,\n",
       " 5026,\n",
       " 5027,\n",
       " 5028,\n",
       " 5029,\n",
       " 5030,\n",
       " 5031,\n",
       " 5032,\n",
       " 5033,\n",
       " 5034,\n",
       " 5035,\n",
       " 5036,\n",
       " 5037,\n",
       " 5038,\n",
       " 5039,\n",
       " 5040,\n",
       " 5041,\n",
       " 5042,\n",
       " 5043,\n",
       " 5044,\n",
       " 5045,\n",
       " 5046,\n",
       " 5047,\n",
       " 5048,\n",
       " 5049,\n",
       " 5050,\n",
       " 5051,\n",
       " 5052,\n",
       " 5053,\n",
       " 5054,\n",
       " 5055,\n",
       " 5056,\n",
       " 5057,\n",
       " 5058,\n",
       " 5059,\n",
       " 5060,\n",
       " 5061,\n",
       " 5062,\n",
       " 5063,\n",
       " 5064,\n",
       " 5065,\n",
       " 5066,\n",
       " 5067,\n",
       " 5068,\n",
       " 5069,\n",
       " 5070,\n",
       " 5071,\n",
       " 5072,\n",
       " 5073,\n",
       " 5074,\n",
       " 5075,\n",
       " 5076,\n",
       " 5077,\n",
       " 5078,\n",
       " 5079,\n",
       " 5080,\n",
       " 5081,\n",
       " 5082,\n",
       " 5083,\n",
       " 5084,\n",
       " 5085,\n",
       " 5086,\n",
       " 5087,\n",
       " 5088,\n",
       " 5089,\n",
       " 5090,\n",
       " 5091,\n",
       " 5092,\n",
       " 5093,\n",
       " 5094,\n",
       " 5095,\n",
       " 5096,\n",
       " 5097,\n",
       " 5098,\n",
       " 5099,\n",
       " 5100,\n",
       " 5101,\n",
       " 5102,\n",
       " 5103,\n",
       " 5104,\n",
       " 5105,\n",
       " 5106,\n",
       " 5107,\n",
       " 5108,\n",
       " 5109,\n",
       " 5110,\n",
       " 5111,\n",
       " 5112,\n",
       " 5113,\n",
       " 5114,\n",
       " 5115,\n",
       " 5116,\n",
       " 5117,\n",
       " 5118,\n",
       " 5119,\n",
       " 5120,\n",
       " 5121,\n",
       " 5122,\n",
       " 5123,\n",
       " 5124,\n",
       " 5125,\n",
       " 5126,\n",
       " 5127,\n",
       " 5128,\n",
       " 5129,\n",
       " 5130,\n",
       " 5131,\n",
       " 5132,\n",
       " 5133,\n",
       " 5134,\n",
       " 5135,\n",
       " 5136,\n",
       " 5137,\n",
       " 5138,\n",
       " 5139,\n",
       " 5140,\n",
       " 5141,\n",
       " 5142,\n",
       " 5143,\n",
       " 5144,\n",
       " 5145,\n",
       " 5146,\n",
       " 5147,\n",
       " 5148,\n",
       " 5149]"
      ]
     },
     "execution_count": 50,
     "metadata": {},
     "output_type": "execute_result"
    }
   ],
   "source": [
    "test_idx"
   ]
  },
  {
   "cell_type": "code",
   "execution_count": 51,
   "metadata": {},
   "outputs": [
    {
     "name": "stdout",
     "output_type": "stream",
     "text": [
      "user_item_train.shape : (4487, 714)\n",
      "user_item_test.shape : (682, 574)\n",
      "users in test also in train : 20\n",
      "users in test not in train : 662\n",
      "movies in test also in train : 574\n",
      "movies in test not in train : 0\n"
     ]
    }
   ],
   "source": [
    "print('user_item_train.shape : {}'.format(user_item_train.shape))\n",
    "print('user_item_test.shape : {}'.format(user_item_test.shape))\n",
    "print('users in test also in train : {}'.format(len(np.intersect1d(user_item_test.index, user_item_train.index))))\n",
    "print('users in test not in train : {}'.format(len(set(user_item_test.index) - set(user_item_train.index))))\n",
    "print('movies in test also in train : {}'.format(len(np.intersect1d(user_item_test.columns, user_item_train.columns))))\n",
    "print('movies in test not in train : {}'.format(len(set(user_item_test.columns) - set(user_item_train.columns))))"
   ]
  },
  {
   "cell_type": "code",
   "execution_count": 52,
   "metadata": {},
   "outputs": [
    {
     "name": "stdout",
     "output_type": "stream",
     "text": [
      "Awesome job!  That's right!  All of the test movies are in the training data, but there are only 20 test users that were also in the training set.  All of the other users that are in the test set we have no data on.  Therefore, we cannot make predictions for these users using SVD.\n"
     ]
    }
   ],
   "source": [
    "# Replace the values in the dictionary below\n",
    "a = 662 \n",
    "b = 574 \n",
    "c = 20 \n",
    "d = 0 \n",
    "\n",
    "\n",
    "sol_4_dict = {\n",
    "    'How many users can we make predictions for in the test set?': c, \n",
    "    'How many users in the test set are we not able to make predictions for because of the cold start problem?': a, \n",
    "    'How many movies can we make predictions for in the test set?': b,\n",
    "    'How many movies in the test set are we not able to make predictions for because of the cold start problem?': d\n",
    "}\n",
    "\n",
    "t.sol_4_test(sol_4_dict)"
   ]
  },
  {
   "cell_type": "markdown",
   "metadata": {},
   "source": [
    "`5.` Now use the **user_item_train** dataset from above to find **U**, **S**, and **V** transpose using SVD. Then find the subset of rows in the **user_item_test** dataset that you can predict using this matrix decomposition with different numbers of latent features to see how many features makes sense to keep based on the accuracy on the test data. This will require combining what was done in questions `2` - `4`.\n",
    "\n",
    "Use the cells below to explore how well SVD works towards making predictions for recommendations on the test data.  "
   ]
  },
  {
   "cell_type": "code",
   "execution_count": 53,
   "metadata": {},
   "outputs": [],
   "source": [
    "# fit SVD on the user_item_train matrix\n",
    "u_train, s_train, vt_train = np.linalg.svd(user_item_train)# fit svd similar to above then use the cells below"
   ]
  },
  {
   "cell_type": "code",
   "execution_count": 54,
   "metadata": {},
   "outputs": [
    {
     "data": {
      "text/plain": [
       "((4487, 4487), (714,), (714, 714))"
      ]
     },
     "execution_count": 54,
     "metadata": {},
     "output_type": "execute_result"
    }
   ],
   "source": [
    "u_train.shape, s_train.shape, vt_train.shape"
   ]
  },
  {
   "cell_type": "code",
   "execution_count": 55,
   "metadata": {},
   "outputs": [
    {
     "data": {
      "text/plain": [
       "20"
      ]
     },
     "execution_count": 55,
     "metadata": {},
     "output_type": "execute_result"
    }
   ],
   "source": [
    "# users in test set that can be predicted (because also in training set)\n",
    "u_test = u_train[user_item_train.index.isin(test_idx), :]\n",
    "u_test.shape[0]"
   ]
  },
  {
   "cell_type": "code",
   "execution_count": 56,
   "metadata": {},
   "outputs": [
    {
     "data": {
      "text/plain": [
       "array([False, False, False, ..., False, False,  True], dtype=bool)"
      ]
     },
     "execution_count": 56,
     "metadata": {},
     "output_type": "execute_result"
    }
   ],
   "source": [
    "user_item_train.index.isin(test_idx)"
   ]
  },
  {
   "cell_type": "code",
   "execution_count": 57,
   "metadata": {},
   "outputs": [
    {
     "data": {
      "text/plain": [
       "array([[ -9.12128414e-03,  -1.04593665e-02,  -3.44661555e-05, ...,\n",
       "         -1.09928326e-04,   5.60307364e-04,  -1.93402264e-03],\n",
       "       [ -4.23484921e-02,  -8.80195536e-02,   2.37441056e-02, ...,\n",
       "         -2.57530463e-04,  -5.54534714e-04,  -5.84544591e-03],\n",
       "       [ -1.08548005e-02,  -4.07260013e-02,  -6.40519993e-03, ...,\n",
       "          1.79591689e-03,   3.43721243e-03,   5.18228785e-03],\n",
       "       ..., \n",
       "       [ -2.00584196e-02,   4.52035654e-03,   1.40205893e-03, ...,\n",
       "         -1.89464227e-03,  -2.31345206e-03,  -7.08880648e-03],\n",
       "       [ -4.34321936e-02,   4.29457303e-02,   3.35667405e-02, ...,\n",
       "         -3.69325078e-03,   1.32117439e-02,  -1.36063956e-02],\n",
       "       [ -1.61097454e-02,  -6.66008794e-03,   7.28103953e-03, ...,\n",
       "         -3.30675721e-04,  -1.29161157e-04,   4.87578910e-01]])"
      ]
     },
     "execution_count": 57,
     "metadata": {},
     "output_type": "execute_result"
    }
   ],
   "source": [
    "u_test"
   ]
  },
  {
   "cell_type": "code",
   "execution_count": 58,
   "metadata": {},
   "outputs": [
    {
     "data": {
      "text/plain": [
       "574"
      ]
     },
     "execution_count": 58,
     "metadata": {},
     "output_type": "execute_result"
    }
   ],
   "source": [
    "# movies in test set that can be predicted (because also in training set)\n",
    "vt_test = vt_train[:, user_item_train.columns.isin(test_arts)]\n",
    "vt_test.shape[1]"
   ]
  },
  {
   "cell_type": "code",
   "execution_count": 59,
   "metadata": {},
   "outputs": [],
   "source": [
    "user_item_test_reduced = user_item_test.loc[user_item_train.index.intersection(test_idx), user_item_train.columns.intersection(test_arts)]"
   ]
  },
  {
   "cell_type": "code",
   "execution_count": 60,
   "metadata": {},
   "outputs": [
    {
     "data": {
      "text/plain": [
       "(20, 574)"
      ]
     },
     "execution_count": 60,
     "metadata": {},
     "output_type": "execute_result"
    }
   ],
   "source": [
    "user_item_test_reduced.shape"
   ]
  },
  {
   "cell_type": "code",
   "execution_count": 61,
   "metadata": {},
   "outputs": [
    {
     "name": "stdout",
     "output_type": "stream",
     "text": [
      "In the reduced test DataSet :\n",
      "218 relations user/movie have a score or 1.899 % of the reduced test set\n",
      "11262 relations user/movie have no score or 98.101 % of the reduced test set\n"
     ]
    }
   ],
   "source": [
    "# calculating the balance of the reduced test dataset\n",
    "test_have_score = user_item_test_reduced[user_item_test_reduced != 0].count().sum()\n",
    "test_have_no_score = user_item_test_reduced[user_item_test_reduced == 0].count().sum()\n",
    "perc_test_have_score = round((test_have_score/(test_have_score+test_have_no_score))*100,3)\n",
    "perc_test_have_no_score = round((test_have_no_score/(test_have_score+test_have_no_score))*100,3)\n",
    "print('In the reduced test DataSet :')\n",
    "print('{} relations user/movie have a score or {} % of the reduced test set'.format(test_have_score,perc_test_have_score))\n",
    "print('{} relations user/movie have no score or {} % of the reduced test set'.format(test_have_no_score,perc_test_have_no_score))"
   ]
  },
  {
   "cell_type": "code",
   "execution_count": 62,
   "metadata": {},
   "outputs": [],
   "source": [
    "# the latent_features matrix remains the same as for the training set"
   ]
  },
  {
   "cell_type": "code",
   "execution_count": 63,
   "metadata": {},
   "outputs": [
    {
     "name": "stdout",
     "output_type": "stream",
     "text": [
      "Latent Features : 10 | Training Accuracy : 0.336 Training F1 : 0.2 | Testing Accuracy : 0.959 | Testing F1 : 0.075\n",
      "Latent Features : 30 | Training Accuracy : 0.478 Training F1 : 0.455 | Testing Accuracy : 0.955 | Testing F1 : 0.124\n",
      "Latent Features : 50 | Training Accuracy : 0.567 Training F1 : 0.583 | Testing Accuracy : 0.953 | Testing F1 : 0.129\n",
      "Latent Features : 70 | Training Accuracy : 0.646 Training F1 : 0.682 | Testing Accuracy : 0.949 | Testing F1 : 0.127\n",
      "Latent Features : 90 | Training Accuracy : 0.709 Training F1 : 0.752 | Testing Accuracy : 0.947 | Testing F1 : 0.131\n",
      "Latent Features : 110 | Training Accuracy : 0.756 Training F1 : 0.8 | Testing Accuracy : 0.943 | Testing F1 : 0.124\n",
      "Latent Features : 130 | Training Accuracy : 0.798 Training F1 : 0.84 | Testing Accuracy : 0.942 | Testing F1 : 0.125\n",
      "Latent Features : 150 | Training Accuracy : 0.832 Training F1 : 0.87 | Testing Accuracy : 0.94 | Testing F1 : 0.127\n",
      "Latent Features : 170 | Training Accuracy : 0.858 Training F1 : 0.893 | Testing Accuracy : 0.939 | Testing F1 : 0.128\n",
      "Latent Features : 190 | Training Accuracy : 0.881 Training F1 : 0.911 | Testing Accuracy : 0.937 | Testing F1 : 0.126\n",
      "Latent Features : 210 | Training Accuracy : 0.9 Training F1 : 0.926 | Testing Accuracy : 0.936 | Testing F1 : 0.124\n",
      "Latent Features : 230 | Training Accuracy : 0.916 Training F1 : 0.939 | Testing Accuracy : 0.935 | Testing F1 : 0.122\n",
      "Latent Features : 250 | Training Accuracy : 0.931 Training F1 : 0.951 | Testing Accuracy : 0.934 | Testing F1 : 0.121\n",
      "Latent Features : 270 | Training Accuracy : 0.943 Training F1 : 0.959 | Testing Accuracy : 0.934 | Testing F1 : 0.12\n",
      "Latent Features : 290 | Training Accuracy : 0.952 Training F1 : 0.966 | Testing Accuracy : 0.933 | Testing F1 : 0.119\n",
      "Latent Features : 310 | Training Accuracy : 0.96 Training F1 : 0.972 | Testing Accuracy : 0.933 | Testing F1 : 0.118\n",
      "Latent Features : 330 | Training Accuracy : 0.966 Training F1 : 0.976 | Testing Accuracy : 0.933 | Testing F1 : 0.118\n",
      "Latent Features : 350 | Training Accuracy : 0.972 Training F1 : 0.98 | Testing Accuracy : 0.932 | Testing F1 : 0.117\n",
      "Latent Features : 370 | Training Accuracy : 0.977 Training F1 : 0.984 | Testing Accuracy : 0.932 | Testing F1 : 0.117\n",
      "Latent Features : 390 | Training Accuracy : 0.982 Training F1 : 0.988 | Testing Accuracy : 0.932 | Testing F1 : 0.117\n",
      "Latent Features : 410 | Training Accuracy : 0.985 Training F1 : 0.99 | Testing Accuracy : 0.932 | Testing F1 : 0.117\n",
      "Latent Features : 430 | Training Accuracy : 0.988 Training F1 : 0.992 | Testing Accuracy : 0.932 | Testing F1 : 0.117\n",
      "Latent Features : 450 | Training Accuracy : 0.99 Training F1 : 0.993 | Testing Accuracy : 0.932 | Testing F1 : 0.117\n",
      "Latent Features : 470 | Training Accuracy : 0.993 Training F1 : 0.995 | Testing Accuracy : 0.932 | Testing F1 : 0.117\n",
      "Latent Features : 490 | Training Accuracy : 0.994 Training F1 : 0.996 | Testing Accuracy : 0.932 | Testing F1 : 0.117\n",
      "Latent Features : 510 | Training Accuracy : 0.995 Training F1 : 0.997 | Testing Accuracy : 0.932 | Testing F1 : 0.117\n",
      "Latent Features : 530 | Training Accuracy : 0.997 Training F1 : 0.998 | Testing Accuracy : 0.932 | Testing F1 : 0.117\n",
      "Latent Features : 550 | Training Accuracy : 0.998 Training F1 : 0.999 | Testing Accuracy : 0.932 | Testing F1 : 0.117\n",
      "Latent Features : 570 | Training Accuracy : 0.999 Training F1 : 0.999 | Testing Accuracy : 0.932 | Testing F1 : 0.117\n",
      "Latent Features : 590 | Training Accuracy : 0.999 Training F1 : 1.0 | Testing Accuracy : 0.932 | Testing F1 : 0.117\n",
      "Latent Features : 610 | Training Accuracy : 0.999 Training F1 : 1.0 | Testing Accuracy : 0.932 | Testing F1 : 0.117\n",
      "Latent Features : 630 | Training Accuracy : 1.0 Training F1 : 1.0 | Testing Accuracy : 0.932 | Testing F1 : 0.117\n",
      "Latent Features : 650 | Training Accuracy : 1.0 Training F1 : 1.0 | Testing Accuracy : 0.932 | Testing F1 : 0.117\n",
      "Latent Features : 670 | Training Accuracy : 1.0 Training F1 : 1.0 | Testing Accuracy : 0.932 | Testing F1 : 0.117\n",
      "Latent Features : 690 | Training Accuracy : 1.0 Training F1 : 1.0 | Testing Accuracy : 0.932 | Testing F1 : 0.117\n"
     ]
    }
   ],
   "source": [
    "# Use these cells to see how well you can use the training\n",
    "num_latent_feats = np.arange(10,700+10,20)\n",
    "\n",
    "sum_errs_train = []\n",
    "sum_errs_test = []\n",
    "\n",
    "sum_f1_train_score = []\n",
    "sum_f1_test_score = []\n",
    "\n",
    "for k in num_latent_feats:\n",
    "    \n",
    "    # restructure with k latent features\n",
    "    s_train_new, u_train_new, vt_train_new = np.diag(s_train[:k]), u_train[:, :k], vt_train[:k, :]\n",
    "    u_test_new, vt_test_new = u_test[:, :k], vt_test[:k, :]\n",
    "    \n",
    "    # take dot product\n",
    "    user_item_train_est = np.around(np.dot(np.dot(u_train_new, s_train_new), vt_train_new))\n",
    "    user_item_test_est = np.around(np.dot(np.dot(u_test_new, s_train_new), vt_test_new))\n",
    "    \n",
    "    # compute error for each prediction to actual value\n",
    "    diffs_train = np.subtract(user_item_train, user_item_train_est)\n",
    "    diffs_test = np.subtract(user_item_test_reduced, user_item_test_est)\n",
    "    \n",
    "    # total errors and keep track of them\n",
    "    err_train = np.sum(np.sum(np.abs(diffs_train)))\n",
    "    sum_errs_train.append(err_train)\n",
    "    \n",
    "    err_test = np.sum(np.sum(np.abs(diffs_test)))\n",
    "    sum_errs_test.append(err_test)\n",
    "    \n",
    "    train_error = round((1 - np.array(sum_errs_train)/df_train.shape[0])[-1],3)\n",
    "    test_error = round((1 - np.array(sum_errs_test)/df_test.shape[0])[-1],3)\n",
    "    f1_train_score = round(f1_score(np.array(user_item_train).flatten(), np.array(user_item_train_est).flatten(),average='weighted',labels=[1.0]),3)\n",
    "    f1_test_score = round(f1_score(np.array(user_item_test_reduced).flatten(), np.array(user_item_test_est).flatten(),average='weighted',labels=[1.0]),3)\n",
    "    \n",
    "    sum_f1_train_score.append(f1_train_score)\n",
    "    sum_f1_test_score.append(f1_test_score)\n",
    "    \n",
    "    print('Latent Features : {} | Training Accuracy : {} Training F1 : {} | Testing Accuracy : {} | Testing F1 : {}'.format(k,train_error,f1_train_score,test_error,f1_test_score))\n",
    "    #print('0 correclty identified : {} | 1 correcly identifed : {}'.format())\n",
    "    # decomposition to predict on test data"
   ]
  },
  {
   "cell_type": "code",
   "execution_count": 64,
   "metadata": {},
   "outputs": [
    {
     "data": {
      "text/plain": [
       "<matplotlib.legend.Legend at 0x7f71f6904be0>"
      ]
     },
     "execution_count": 64,
     "metadata": {},
     "output_type": "execute_result"
    },
    {
     "data": {
      "image/png": "[encoded data removed]",
      "text/plain": [
       "<matplotlib.figure.Figure at 0x7f71f6ac86a0>"
      ]
     },
     "metadata": {
      "needs_background": "light"
     },
     "output_type": "display_data"
    }
   ],
   "source": [
    "fig = plt.figure()\n",
    "\n",
    "ax1 = fig.add_subplot(211)\n",
    "ax1.set_xlabel('Number of Latent Features');\n",
    "ax1.set_ylabel('Accuracy');\n",
    "ax1.set_title('Measure vs. Number of Latent Features');\n",
    "ax1.plot(num_latent_feats,1 - np.array(sum_errs_train)/df_train.shape[0],label = 'Training Accuracy');\n",
    "ax1.plot(num_latent_feats, 1 - np.array(sum_errs_test)/df_test.shape[0],label = 'Testing Accuracy');\n",
    "plt.legend()\n",
    "ax2 = fig.add_subplot(212)\n",
    "ax2.plot(num_latent_feats,sum_f1_train_score,label = 'Training F1',alpha=0.9);\n",
    "ax2.plot(num_latent_feats,sum_f1_test_score,label = 'Testing F1',alpha=0.7);\n",
    "plt.xlabel('Number of Latent Features');\n",
    "plt.ylabel('F1_score');\n",
    "plt.legend()"
   ]
  },
  {
   "cell_type": "code",
   "execution_count": 65,
   "metadata": {},
   "outputs": [],
   "source": [
    "test_real_vs_est = pd.DataFrame(np.array(user_item_test_reduced).flatten().tolist())\n",
    "test_real_vs_est['est'] = pd.DataFrame(np.array(user_item_test_est).flatten().tolist())"
   ]
  },
  {
   "cell_type": "code",
   "execution_count": 66,
   "metadata": {},
   "outputs": [
    {
     "name": "stdout",
     "output_type": "stream",
     "text": [
      "Number of 0 in reduced test set : 218\n",
      "Number of 1 in reduced test set : 11262\n",
      "Number of 0 in test estimates : 244\n",
      "Number of 1 in test estimates : 11236\n"
     ]
    }
   ],
   "source": [
    "print('Number of 0 in reduced test set : {}'.format(test_real_vs_est[test_real_vs_est[0] == 1].count()[0]))\n",
    "print('Number of 1 in reduced test set : {}'.format(test_real_vs_est[test_real_vs_est[0] == 0].count()[0]))\n",
    "print('Number of 0 in test estimates : {}'.format(test_real_vs_est[test_real_vs_est['est'] == 1].count()[0]))\n",
    "print('Number of 1 in test estimates : {}'.format(test_real_vs_est[test_real_vs_est['est'] == 0].count()[0]))"
   ]
  },
  {
   "cell_type": "code",
   "execution_count": 67,
   "metadata": {},
   "outputs": [
    {
     "name": "stdout",
     "output_type": "stream",
     "text": [
      "TRUE POSITIVES : 27\n",
      "TRUE NEGATIVES : 11045\n",
      "FALSE POSITIVES : 217\n",
      "FALSE NEGATIVES : 191\n"
     ]
    }
   ],
   "source": [
    "print('TRUE POSITIVES : {}'.format(test_real_vs_est[(test_real_vs_est[0] == 1) & (test_real_vs_est['est'] == 1)].count()[0]))\n",
    "print('TRUE NEGATIVES : {}'.format(test_real_vs_est[(test_real_vs_est[0] == 0) & (test_real_vs_est['est'] == 0)].count()[0]))\n",
    "print('FALSE POSITIVES : {}'.format(test_real_vs_est[(test_real_vs_est[0] == 0) & (test_real_vs_est['est'] == 1)].count()[0]))\n",
    "print('FALSE NEGATIVES : {}'.format(test_real_vs_est[(test_real_vs_est[0] == 1) & (test_real_vs_est['est'] == 0)].count()[0]))"
   ]
  },
  {
   "cell_type": "code",
   "execution_count": 68,
   "metadata": {},
   "outputs": [],
   "source": [
    "sse = 0\n",
    "num_rated = 0\n",
    "preds, acts = [], []\n",
    "actual_v_pred = np.zeros((2,2))\n",
    "for idx in range(len(test_real_vs_est[0])):\n",
    "    try:\n",
    "        sse += (test_real_vs_est[0][idx] - test_real_vs_est['est'][idx])**2\n",
    "        num_rated+=1\n",
    "        preds.append(test_real_vs_est['est'][idx])\n",
    "        acts.append(test_real_vs_est[0][idx])\n",
    "        actual_v_pred[int(test_real_vs_est[0][idx]), int(round(test_real_vs_est['est'][idx]))]+=1\n",
    "        \n",
    "    except:\n",
    "        continue\n",
    "    \n",
    "rmse = np.sqrt(sse/num_rated)\n",
    "perc_rated = num_rated/len(test_real_vs_est[0])"
   ]
  },
  {
   "cell_type": "code",
   "execution_count": 69,
   "metadata": {},
   "outputs": [
    {
     "data": {
      "text/plain": [
       "array([[ 11045.,    217.],\n",
       "       [   191.,     27.]])"
      ]
     },
     "execution_count": 69,
     "metadata": {},
     "output_type": "execute_result"
    }
   ],
   "source": [
    "actual_v_pred"
   ]
  },
  {
   "cell_type": "code",
   "execution_count": 70,
   "metadata": {},
   "outputs": [
    {
     "data": {
      "text/plain": [
       "Text(0.5,1,'Actual vs. Predicted Values')"
      ]
     },
     "execution_count": 70,
     "metadata": {},
     "output_type": "execute_result"
    },
    {
     "data": {
      "image/png": "[encoded data removed]",
      "text/plain": [
       "<matplotlib.figure.Figure at 0x7f71f6a92ba8>"
      ]
     },
     "metadata": {
      "needs_background": "light"
     },
     "output_type": "display_data"
    }
   ],
   "source": [
    "import seaborn as sns\n",
    "sns.heatmap(actual_v_pred,annot=True,cmap=\"RdBu_r\")\n",
    "plt.xlabel(\"Predicted Values\");\n",
    "plt.ylabel(\"Actual Values\");\n",
    "plt.title(\"Actual vs. Predicted Values\")"
   ]
  },
  {
   "cell_type": "markdown",
   "metadata": {
    "collapsed": true
   },
   "source": [
    "`6.` Use the cell below to comment on the results you found in the previous question. Given the circumstances of your results, discuss what you might do to determine if the recommendations you make with any of the above recommendation systems are an improvement to how users currently find articles? "
   ]
  },
  {
   "cell_type": "markdown",
   "metadata": {},
   "source": [
    "**Results description**\n",
    "We observe that we have an increasing training accuracy untill around 300 latent features and then the increase is marginal. In the same time the testing accuracy remains above 0.93 while increasing the latent features. This could seems like a pretty good result but the classes are very unbalanced and the accuracy poorly represents the ability to correcly predict if the user saw a movie or not.\n",
    "\n",
    "The F1_score is a better indicator and in this case the training F1_score also drasticly reduce to increase around 300 latent features. The F1_score on the other and remains very low with a maximum of 0.131 at 90 latent features.\n",
    "\n",
    "The main problem in with this method for this dataset is that we have a very low number of users (20) for which we can make predictions. A larger dataset should enable to improve the results.\n",
    "\n",
    "From the different systems that we observed I would prefer to implement :\n",
    "    - for the new users, given the cold start problem a Rank Based Recommendations system\n",
    "    - for the users that already have read a few articles, a combination of content based recommendation, User-User Based Collaborative Filtering and Rank Based Recommendations in order to take profit of most of the information contained in the database\n",
    "    - When the database expand and when we will have more data we could move to a solution using SVD.\n",
    "    \n",
    "In order to validate these assumption we could implement an A/B test on the plateform by dividing the audicence in different groups and applying them different types of recommandations algorithms and see which of the algorithms gives the best recommandations to the users."
   ]
  },
  {
   "cell_type": "markdown",
   "metadata": {
    "collapsed": true
   },
   "source": [
    "<a id='conclusions'></a>\n",
    "### Extras\n",
    "Using your workbook, you could now save your recommendations for each user, develop a class to make new predictions and update your results, and make a flask app to deploy your results.  These tasks are beyond what is required for this project.  However, from what you learned in the lessons, you certainly capable of taking these tasks on to improve upon your work here!\n",
    "\n",
    "\n",
    "## Conclusion\n",
    "\n",
    "> Congratulations!  You have reached the end of the Recommendations with IBM project! \n",
    "\n",
    "> **Tip**: Once you are satisfied with your work here, check over your report to make sure that it is satisfies all the areas of the [rubric](https://review.udacity.com/#!/rubrics/2322/view). You should also probably remove all of the \"Tips\" like this one so that the presentation is as polished as possible.\n",
    "\n",
    "\n",
    "## Directions to Submit\n",
    "\n",
    "> Before you submit your project, you need to create a .html or .pdf version of this notebook in the workspace here. To do that, run the code cell below. If it worked correctly, you should get a return code of 0, and you should see the generated .html file in the workspace directory (click on the orange Jupyter icon in the upper left).\n",
    "\n",
    "> Alternatively, you can download this report as .html via the **File** > **Download as** submenu, and then manually upload it into the workspace directory by clicking on the orange Jupyter icon in the upper left, then using the Upload button.\n",
    "\n",
    "> Once you've done this, you can submit your project by clicking on the \"Submit Project\" button in the lower right here. This will create and submit a zip file with this .ipynb doc and the .html or .pdf version you created. Congratulations! "
   ]
  },
  {
   "cell_type": "code",
   "execution_count": 72,
   "metadata": {},
   "outputs": [
    {
     "data": {
      "text/plain": [
       "0"
      ]
     },
     "execution_count": 72,
     "metadata": {},
     "output_type": "execute_result"
    }
   ],
   "source": [
    "from subprocess import call\n",
    "call(['python', '-m', 'nbconvert', 'Recommendations_with_IBM.ipynb'])"
   ]
  }
 ],
 "metadata": {
  "kernelspec": {
   "display_name": "Python 3",
   "language": "python",
   "name": "python3"
  },
  "language_info": {
   "codemirror_mode": {
    "name": "ipython",
    "version": 3
   },
   "file_extension": ".py",
   "mimetype": "text/x-python",
   "name": "python",
   "nbconvert_exporter": "python",
   "pygments_lexer": "ipython3",
   "version": "3.6.3"
  }
 },
 "nbformat": 4,
 "nbformat_minor": 2
}
